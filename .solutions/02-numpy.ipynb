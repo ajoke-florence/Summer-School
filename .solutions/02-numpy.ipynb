{
 "cells": [
  {
   "cell_type": "markdown",
   "metadata": {},
   "source": [
    "# Numpy\n",
    "\n",
    "While Python has a very nice syntax, it is also comparatively slow for certain tasks.  \n",
    "This doesn't really matter for many applications, but for heavy numeric work it is very annoying.  \n",
    "Thus the `NumPy` library was created, which interfaces the two fast `C` and `Fortran` languages.  \n",
    "The core object of `NumPy` is the N-dimensional array called `NDArray`.  \n",
    "It has a very similar interface to the Python list except being limited to a single data type per array.  "
   ]
  },
  {
   "cell_type": "code",
   "execution_count": null,
   "metadata": {},
   "outputs": [],
   "source": [
    "from __future__ import annotations\n",
    "\n",
    "from typing import Any, cast\n",
    "\n",
    "import numpy as np\n",
    "import pandas as pd\n",
    "import matplotlib.pyplot as plt\n",
    "from numpy.typing import NDArray\n",
    "\n",
    "\n",
    "def test(x: Any, expected: Any) -> None:\n",
    "    if isinstance(x, np.ndarray) and isinstance(expected, np.ndarray):\n",
    "        if not np.array_equal(x, expected):\n",
    "            raise AssertionError(f\"Expected {expected}, got {x}\")\n",
    "    else:\n",
    "        if x != expected:\n",
    "            raise AssertionError(f\"Expected {expected}, got {x}\")\n",
    "    print(\"Test passed\")\n"
   ]
  },
  {
   "cell_type": "markdown",
   "metadata": {},
   "source": [
    "## Creating arrays from Python containers\n",
    "\n",
    "You can build arrays from Python containers or from `numpy` functions.  \n",
    "In general the latter is preferred when possible as it is faster, but we will start with the first.  \n",
    "\n",
    "**Pay special attention to the difference between a row vector and a one-dimensional array** "
   ]
  },
  {
   "cell_type": "code",
   "execution_count": null,
   "metadata": {},
   "outputs": [],
   "source": [
    "# A one-dimensional array\n",
    "arr = np.array([1, 2, 3])\n",
    "\n",
    "print(arr.ndim)  # number of dimensions\n",
    "print(arr.shape)  # number of elements per dimension\n",
    "print(arr)\n"
   ]
  },
  {
   "cell_type": "code",
   "execution_count": null,
   "metadata": {},
   "outputs": [],
   "source": [
    "# a row vector\n",
    "arr = np.array([[1, 2, 3]])\n",
    "\n",
    "print(arr.ndim)  # number of dimensions\n",
    "print(arr.shape)  # number of elements per dimension\n",
    "print(arr)"
   ]
  },
  {
   "cell_type": "code",
   "execution_count": null,
   "metadata": {},
   "outputs": [],
   "source": [
    "# a column vector\n",
    "arr = np.array([[1], [2], [3]])\n",
    "\n",
    "print(arr.ndim)  # number of dimensions\n",
    "print(arr.shape)  # number of elements per dimension\n",
    "print(arr)"
   ]
  },
  {
   "cell_type": "code",
   "execution_count": null,
   "metadata": {},
   "outputs": [],
   "source": [
    "# A two-dimensional array (= matrix)\n",
    "arr = np.array([[1, 2, 3], [4, 5, 6]])\n",
    "\n",
    "print(arr.ndim)  # number of dimensions\n",
    "print(arr.shape)  # number of elements per dimension\n",
    "print(arr)\n"
   ]
  },
  {
   "cell_type": "markdown",
   "metadata": {},
   "source": [
    "### Exercise: type coercion / upcasting\n",
    "\n",
    "You can check the data type of an array with the `.dtype` property.\n",
    "\n",
    "- What is the data type of `np.array([1, 2, 3])`? Did you expect that?\n",
    "- What is the data type of `np.array([1, 2, \"3\"])`? Did you expect that?\n",
    "\n",
    "You can enforce the data type using the `dtype` argument of `np.array`\n",
    "\n",
    "- What is the data type of `np.array([1, 2, \"3\"], dtype=float)`? What happened to the `\"3\"`?\n",
    "- Does that always work? What would happen if you change `\"3\"` to `\"a\"`?\n",
    "\n",
    "\n"
   ]
  },
  {
   "cell_type": "code",
   "execution_count": null,
   "metadata": {},
   "outputs": [],
   "source": [
    "print(np.array([1, 2, 3]).dtype)\n",
    "print(np.array([1, 2, \"3\"]).dtype)  # all values upcasted to char\n",
    "print(np.array([1, 2, \"3\"], dtype=float))  # \"3\" converted to float\n",
    "\n",
    "try:\n",
    "    print(np.array([1, 2, \"a\"], dtype=float))  # \"3\" converted to float\n",
    "except ValueError:\n",
    "    print(\"As expected, 'a' cannot be converted to float\")\n"
   ]
  },
  {
   "cell_type": "code",
   "execution_count": null,
   "metadata": {},
   "outputs": [],
   "source": []
  },
  {
   "cell_type": "code",
   "execution_count": null,
   "metadata": {},
   "outputs": [],
   "source": []
  },
  {
   "cell_type": "markdown",
   "metadata": {},
   "source": [
    "## Creating arrays from numpy functions\n",
    "\n",
    "Now let's check out some creation routines.  \n",
    "First we have `arange` and `linspace`.  \n",
    "`arange(start, stop, step_size)` behaves like the Python `range`, except that it returns an array instead of an iterator.  \n",
    "Since `arange` can produce floats, you can also set the step to non-integer values.\n",
    "The third argument for `linspace(start, stop, num)` isn't the step-size as with `range` or `arange`, but the number of values you want to have.  \n",
    "Also note that `linspace` **includes** the second argument, so it is a inclusive range `[start, stop]`.  \n",
    "As the name suggests the values between start and stop are spaced **linearly**.  \n",
    "\n",
    "\n",
    "```python\n",
    "np.arange(0, 5, 1)       # array([0, 1, 2, 3, 4])\n",
    "np.linspace(0, 5, 6)     # array([0, 1, 2, 3, 4])\n",
    "```\n",
    "\n",
    "There are also `geomspace` and `logspace` for **geometric** spacing between the values.  \n",
    "The difference between them is that for `logspace` you give `10 ** start` and `10 ** end`.\n",
    "\n",
    "```python\n",
    "np.geomspace(1, 100, 3)  # array([  1.,  10., 100.]\n",
    "np.logspace(0, 2, 3)     # array([  1.,  10., 100.])\n",
    "```\n",
    "\n",
    "Other useful array generation functions are `zeros`, `ones` and `full`, which will create arrays of shape `(N, M)` full of `0`, `1` or a value of choice respectively.\n",
    "\n",
    "```python\n",
    "np.zeros((3, 3))               # 3x3 \n",
    "np.ones((3, 3))                # 3x3\n",
    "np.full((3, 3), fill_value=2)  # 3x3\n",
    "\n",
    "#  array([[2, 2, 2],\n",
    "#         [2, 2, 2],\n",
    "#         [2, 2, 2]])\n",
    "\n",
    "```\n",
    "\n",
    "You can also generate arrays filled with *random* numbers.  \n",
    "There is a bunch of functions in `np.random`, for example `normal`,  \n",
    "\n",
    "```python\n",
    "np.random.normal(loc=0, scale=1, size=(10, 10))\n",
    "```"
   ]
  },
  {
   "cell_type": "markdown",
   "metadata": {},
   "source": [
    "### Exercise: creation routines\n",
    "\n",
    "- Create an array containing the numbers `[0, 2, 4, 6, 8]` with both `np.arange` and `np.linspace`\n",
    "- Create an array containing ascending powers of 10 between 0 and one million with both `np.geomspace` and `np.logspace`"
   ]
  },
  {
   "cell_type": "code",
   "execution_count": null,
   "metadata": {},
   "outputs": [],
   "source": [
    "expected = np.array([0, 2, 4, 6, 8])\n",
    "assert np.array_equal(np.arange(0, 10, 2), expected)\n",
    "assert np.array_equal(np.linspace(0, 8, 5), expected)"
   ]
  },
  {
   "cell_type": "code",
   "execution_count": null,
   "metadata": {},
   "outputs": [],
   "source": [
    "expected = np.array([1e0, 1e1, 1e2, 1e3, 1e4, 1e5, 1e6])\n",
    "assert np.array_equal(np.geomspace(1, 1e6, 7), expected)\n",
    "assert np.array_equal(np.logspace(0, 6, 7), expected)\n"
   ]
  },
  {
   "cell_type": "code",
   "execution_count": null,
   "metadata": {},
   "outputs": [],
   "source": []
  },
  {
   "cell_type": "code",
   "execution_count": null,
   "metadata": {},
   "outputs": [],
   "source": []
  },
  {
   "cell_type": "code",
   "execution_count": null,
   "metadata": {},
   "outputs": [],
   "source": []
  },
  {
   "cell_type": "markdown",
   "metadata": {},
   "source": [
    "## Indexing & slicing\n",
    "\n",
    "Indexing and slicing syntax is the same as with standard Python containers.  \n",
    "The only difference is that since `numpy` arrays can be multidimensional, you can have multiple slices, separated with a comma.\n",
    "\n",
    "```python\n",
    "arr = np.array([[1, 2, 3], [4, 5, 6]])\n",
    "# array([[1, 2, 3],\n",
    "#        [4, 5, 6]])\n",
    "\n",
    "# accessing the rows\n",
    "arr[0]    # array([1, 2, 3]), equal to arr[0, :]\n",
    "arr[1]    # array([4, 5, 6]), equal to arr[1, :]\n",
    "\n",
    "# accessing the columns\n",
    "arr[:, 0] # array([1, 4])\n",
    "arr[:, 1] # array([2, 5])\n",
    "arr[:, 2] # array([3, 6])\n",
    "```\n",
    "\n",
    "Note that those slices are **views**, not **copies** of the data, so if you change anything in the slice, the data in the original array is changed as well!  \n",
    "If you do need a copy, you can use the `.copy()` method on the array view.\n",
    "\n",
    "```python\n",
    "arr = np.ones((5, 5))\n",
    "sub = arr[1:-1, 1:-1]\n",
    "sub[1, 1] = 2  # changes arr as well!\n",
    "arr\n",
    "\n",
    "# array([[1., 1., 1., 1., 1.],\n",
    "#        [1., 1., 1., 1., 1.],\n",
    "#        [1., 1., 2., 1., 1.],\n",
    "#        [1., 1., 1., 1., 1.],\n",
    "#        [1., 1., 1., 1., 1.]])\n",
    "``` \n"
   ]
  },
  {
   "cell_type": "markdown",
   "metadata": {},
   "source": [
    "### Exercise: indexing\n",
    "\n",
    "- Create a 5x5 matrix of ones\n",
    "- Replace the third column and the third row in the matrix with zeros"
   ]
  },
  {
   "cell_type": "code",
   "execution_count": null,
   "metadata": {},
   "outputs": [],
   "source": [
    "arr = np.ones((5, 5))\n",
    "arr[:, 2] = np.zeros(5)  # second column\n",
    "arr[2, :] = np.zeros(5)  # second row\n",
    "\n",
    "test(\n",
    "    arr,\n",
    "    np.array(\n",
    "        [\n",
    "            [1.0, 1.0, 0.0, 1.0, 1.0],\n",
    "            [1.0, 1.0, 0.0, 1.0, 1.0],\n",
    "            [0.0, 0.0, 0.0, 0.0, 0.0],\n",
    "            [1.0, 1.0, 0.0, 1.0, 1.0],\n",
    "            [1.0, 1.0, 0.0, 1.0, 1.0],\n",
    "        ]\n",
    "    ),\n",
    ")\n",
    "\n"
   ]
  },
  {
   "cell_type": "markdown",
   "metadata": {},
   "source": [
    "### Exercise: board game layout\n",
    "\n",
    "- Create a 5x5 array of zeros and then \"frame\" it with a border of ones"
   ]
  },
  {
   "cell_type": "code",
   "execution_count": null,
   "metadata": {},
   "outputs": [],
   "source": [
    "# boring answer :(\n",
    "# np.pad(np.zeros((5, 5)), pad_width=1, constant_values=1)\n",
    "\n",
    "arr = np.ones((7, 7))\n",
    "arr[1:-1, 1:-1] = np.zeros((5, 5))\n",
    "\n",
    "test(\n",
    "    arr,\n",
    "    np.array(\n",
    "        [\n",
    "            [1.0, 1.0, 1.0, 1.0, 1.0, 1.0, 1.0],\n",
    "            [1.0, 0.0, 0.0, 0.0, 0.0, 0.0, 1.0],\n",
    "            [1.0, 0.0, 0.0, 0.0, 0.0, 0.0, 1.0],\n",
    "            [1.0, 0.0, 0.0, 0.0, 0.0, 0.0, 1.0],\n",
    "            [1.0, 0.0, 0.0, 0.0, 0.0, 0.0, 1.0],\n",
    "            [1.0, 0.0, 0.0, 0.0, 0.0, 0.0, 1.0],\n",
    "            [1.0, 1.0, 1.0, 1.0, 1.0, 1.0, 1.0],\n",
    "        ]\n",
    "    ),\n",
    ")\n"
   ]
  },
  {
   "cell_type": "code",
   "execution_count": null,
   "metadata": {},
   "outputs": [],
   "source": []
  },
  {
   "cell_type": "code",
   "execution_count": null,
   "metadata": {},
   "outputs": [],
   "source": []
  },
  {
   "cell_type": "code",
   "execution_count": null,
   "metadata": {},
   "outputs": [],
   "source": []
  },
  {
   "cell_type": "markdown",
   "metadata": {},
   "source": [
    "## Reshape, squeeze & flatten \n",
    "\n",
    "Many problems in linear algebra and thus machine learning / AI require data to be in a certain *shape*.  \n",
    "With the `reshape` method you can easily change the layout of your data.  \n",
    "\n",
    "```python\n",
    "arr = np.array([1, 2, 3, 4, 5, 6])  # 1d array\n",
    "# array([1, 2, 3, 4, 5, 6])\n",
    "\n",
    "arr.reshape(1, 6)                   # row vector\n",
    "# array([[1, 2, 3, 4, 5, 6]])\n",
    "\n",
    "arr.reshape(6, 1)                   # column vector\n",
    "# array([[1],\n",
    "#        [2],\n",
    "#        [3],\n",
    "#        [4],\n",
    "#        [5],\n",
    "#        [6]])\n",
    "\n",
    "arr.reshape(2, 3)\n",
    "# array([[1, 2, 3],\n",
    "#        [4, 5, 6]])\n",
    "\n",
    "arr.reshape(3, 2)\n",
    "# array([[1, 2],\n",
    "#        [3, 4],\n",
    "#        [5, 6]])\n",
    "```\n",
    "\n",
    "Do note that a *negative number* in this context means all remaining items.  \n",
    "So in the example above `arr.reshape(1, 6)` is equal to `arr.reshape(1, -1)`.  \n",
    "Use the one that you prefer.  \n",
    "\n",
    "Two special forms of reshape are `flatten` and `squeeze`.  \n",
    "`flatten` takes a multidimensional array and reduces it to a one-dimensional array\n",
    "\n",
    "```python\n",
    "arr = np.array([[1, 2], [3, 4], [5, 6]])\n",
    "arr.flatten()\n",
    "# array([1, 2, 3, 4, 5, 6])\n",
    "```\n",
    "\n",
    "`squeeze` only removes empty dimensions\n",
    "\n",
    "```python\n",
    "arr = np.array([[1, 2, 3, 4, 5, 6]])\n",
    "arr.squeeze()\n",
    "# array([1, 2, 3, 4, 5, 6])\n",
    "```"
   ]
  },
  {
   "cell_type": "markdown",
   "metadata": {},
   "source": [
    "### Exercise\n",
    "\n",
    "Create two functions  \n",
    "\n",
    "`make_row_vector(arr: np.ndarray) -> np.ndarray`  \n",
    "`make_col_vector(arr: np.ndarray) -> np.ndarray`  \n",
    "\n",
    "that take an array of any shape and transform it into a row and column vector respectively"
   ]
  },
  {
   "cell_type": "code",
   "execution_count": null,
   "metadata": {},
   "outputs": [],
   "source": [
    "def make_row_vector(arr: NDArray) -> NDArray:\n",
    "    return arr.reshape(1, -1)\n",
    "\n",
    "def make_col_vector(arr: NDArray) -> NDArray:\n",
    "    return arr.reshape(-1, 1)\n",
    "\n",
    "\n",
    "test(make_row_vector(np.arange(1, 10)).shape, (1, 9))\n",
    "test(make_col_vector(np.arange(1, 10)).shape, (9, 1))\n",
    "test(make_row_vector(np.arange(1, 10).reshape(3, 3)).shape, (1, 9))\n",
    "test(make_col_vector(np.arange(1, 10).reshape(3, 3)).shape, (9, 1))\n"
   ]
  },
  {
   "cell_type": "code",
   "execution_count": null,
   "metadata": {},
   "outputs": [],
   "source": []
  },
  {
   "cell_type": "code",
   "execution_count": null,
   "metadata": {},
   "outputs": [],
   "source": []
  },
  {
   "cell_type": "markdown",
   "metadata": {},
   "source": [
    "## Boolean indexing / masking\n",
    "\n",
    "You can use boolean conditions to select a subset of an array\n",
    "\n",
    "```python\n",
    "arr = np.arange(1, 10)\n",
    "arr[arr > 3]\n",
    "\n",
    "# array([4, 5, 6, 7, 8, 9])\n",
    "```\n",
    "\n",
    "You can also combine multiple conditions, but be sure to always use parentheses around them\n",
    "\n",
    "```python\n",
    "arr = np.arange(1, 10)\n",
    "arr[(arr > 3) & (arr < 6)]\n",
    "# array([4, 5])\n",
    "```"
   ]
  },
  {
   "cell_type": "markdown",
   "metadata": {},
   "source": [
    "### Exercise: boolean indexing\n",
    "\n",
    "Create an array called `characters` with the same shape as the `numbers` array, filled with the value `\" \"` (one spacebar).  \n",
    "For every position in the `numbers` array that is divisible by two, fill the character `\"▅\"` into the characters array at the same position.  \n",
    "Use the `special_printer` function to print out the array.  \n",
    "Does that make you happy?  \n"
   ]
  },
  {
   "cell_type": "code",
   "execution_count": null,
   "metadata": {},
   "outputs": [],
   "source": [
    "def special_printer(characters: NDArray) -> None:\n",
    "    for row in characters:\n",
    "        for val in row:\n",
    "            print(val, end=\" \")\n",
    "        print()\n",
    "\n",
    "\n",
    "numbers = np.array(\n",
    "    [\n",
    "        [5, 2, 21, 6, 47],\n",
    "        [33, 1, 11, 23, 45],\n",
    "        [12, 19, 31, 27, 18],\n",
    "        [41, 14, 10, 16, 9],\n",
    "    ]\n",
    ")\n",
    "\n",
    "characters = np.full(numbers.shape, fill_value=\" \")\n",
    "characters[numbers % 2 == 0] = \"▅\"  # U+2585\n",
    "special_printer(characters)\n"
   ]
  },
  {
   "cell_type": "code",
   "execution_count": null,
   "metadata": {},
   "outputs": [],
   "source": []
  },
  {
   "cell_type": "code",
   "execution_count": null,
   "metadata": {},
   "outputs": [],
   "source": []
  },
  {
   "cell_type": "markdown",
   "metadata": {},
   "source": [
    "## Broadcasting vs Linear Algebra\n",
    "\n",
    "In order to make a lot of common operations easier to write, numpy uses broadcasting (applying an operation to every element in a array).\n",
    "\n",
    "This works with scalars and arrays\n",
    "\n",
    "```python\n",
    "# add scalar to 1d array\n",
    "v = np.arange(0, 3)\n",
    "print(v + 2)\n",
    "# [2 3 4]\n",
    "\n",
    "# add scalar to 2d array\n",
    "m = np.arange(0, 9).reshape(3, 3)\n",
    "print(m + 2)\n",
    "\n",
    "# [[ 2  3  4]\n",
    "#  [ 5  6  7]\n",
    "#  [ 8  9 10]]\n",
    "```\n",
    "\n",
    "as well as with multiple arrays\n",
    "\n",
    "```python\n",
    "# add 1d array to 2d array\n",
    "print(np.ones((3, 3)) + np.arange(0, 3))\n",
    "# [[1. 2. 3.]\n",
    "#  [1. 2. 3.]\n",
    "#  [1. 2. 3.]]\n",
    "\n",
    "# Broadcasting two vectors\n",
    "print(np.arange(0, 3).reshape(-1, 1) + np.arange(0, 3).reshape(1, -1))\n",
    "# [[0 1 2]\n",
    "#  [1 2 3]\n",
    "#  [2 3 4]]\n",
    "```\n",
    "\n",
    "\n",
    "The rules for this are as follows:\n",
    "\n",
    "- Rule 1: If the two arrays differ in their number of dimensions, the shape of the one with fewer dimensions is padded with ones on its leading (left) side.\n",
    "- Rule 2: If the shape of the two arrays does not match in any dimension, the array with shape equal to 1 in that dimension is stretched to match the other shape.\n",
    "- Rule 3: If in any dimension the sizes disagree and neither is equal to 1, an error is raised.\n",
    "\n",
    "One caveat here is that for **multiplication** you might expect a matrix product, but you actually get a broadcast product. If you *want* to have a matrix product, you have to use the `@` operator\n",
    "\n",
    "```python\n",
    "A = np.array([[1, 2], [7, 6]])\n",
    "B = np.array([[6, 7], [7, 2]])\n",
    "\n",
    "np.array_equal(A * B, B * A)  # True\n",
    "np.array_equal(A @ B, B @ A)  # False, as expected\n",
    "```\n"
   ]
  },
  {
   "cell_type": "markdown",
   "metadata": {},
   "source": [
    "### Exercise: transpose\n",
    "\n",
    "Transposing means flipping over a vector or matrix over it's diagonal and is a very common operation.  \n",
    "The easiest example is turning a row-vector into a column-vector or the other way around.  \n",
    "\n",
    "\n",
    "```python\n",
    "arr = np.array([[1, 2, 3]])\n",
    "arr\n",
    "# array([[1, 2, 3]])\n",
    "\n",
    "arr.T\n",
    "# array([[1],\n",
    "#        [2],\n",
    "#        [3]])\n",
    "```\n",
    "\n",
    "Note the two pairs of brackets, which leads to the shape `(1, 3)`.  \n",
    "Only using `np.array([1, 2, 3])` would lead to the shape `(3, )`, for which the transpose is still `(3, )`!\n",
    "\n",
    "Using the row vector `v = np.array([[1, 2, 3]])` and the matrix `M = np.array([[1, 2, 3], [4, 5, 6]])`, which are all the products can you build using the `@` operator? Try switching between the normal and transposed version of each of the operands."
   ]
  },
  {
   "cell_type": "code",
   "execution_count": null,
   "metadata": {},
   "outputs": [],
   "source": [
    "v = np.array([[1, 2, 3]])\n",
    "M = np.array([[1, 2, 3], [4, 5, 6]])\n",
    "\n",
    "print(v.T @ v)\n",
    "print()\n",
    "print(v @ v.T)\n",
    "print()\n",
    "print(M @ v.T)\n",
    "print()\n",
    "print(v @ M.T)\n"
   ]
  },
  {
   "cell_type": "code",
   "execution_count": null,
   "metadata": {},
   "outputs": [],
   "source": []
  },
  {
   "cell_type": "code",
   "execution_count": null,
   "metadata": {},
   "outputs": [],
   "source": []
  },
  {
   "cell_type": "code",
   "execution_count": null,
   "metadata": {},
   "outputs": [],
   "source": []
  },
  {
   "cell_type": "markdown",
   "metadata": {},
   "source": [
    "## Vectorized functions\n",
    "\n",
    "Just as you could broadcast `+` in the section above, there are other functions available. \n",
    "These are usually referred to as `vectorized` functions, as you don't need to manually use a for loop to apply them to every element.   \n",
    "\n",
    "| operator | `ufunc`            |\n",
    "|----------|--------------------|\n",
    "| `+`      | `np.add`           |\n",
    "| `-`      | `np.subtract`      |\n",
    "| `*`      | `np.multiply`      |\n",
    "| `/`      | `np.divide`        |\n",
    "| `/`/     | `np.floor_divide`  |\n",
    "| `*`*     | `np.power`         |\n",
    "| `%`      | `np.mod`           |\n",
    "| `==`     | `np.equal`         |\n",
    "| `!=`     | `np.not_equal`     |\n",
    "| `<`      | `np.less`          |\n",
    "| `<=`     | `np.less_equal`    |\n",
    "| `>`      | `np.greater`       |\n",
    "| `>=`     | `np.greater_equal` |\n",
    "\n",
    "A (non-exhaustive) list of useful numpy `ufuncs`.\n",
    "\n",
    "- `np.sum`\n",
    "- `np.prod`\n",
    "- `np.min`\n",
    "- `np.max`\n",
    "- `np.abs`\n",
    "- `np.mean`\n",
    "- `np.median`\n",
    "- `np.var`\n",
    "- `np.std`\n",
    "- `np.exp`\n",
    "- `np.log`\n",
    "- `np.sin`\n",
    "- `np.cos`\n",
    "- `np.tan`\n",
    "- `np.arcsin`\n",
    "- `np.arccos`\n",
    "- `np.arctan`\n",
    "\n",
    "You can explore other functions using `.<TAB>` autocompletion or via the official [documentation](https://numpy.org/doc/stable/reference/ufuncs.html)"
   ]
  },
  {
   "cell_type": "markdown",
   "metadata": {},
   "source": [
    "### Exercise: root mean square error\n",
    "\n",
    "The RMSE is defined as the square root of the mean of the squared error between a prediction $\\hat{y_i}$ and the correct value $y_i$.\n",
    "\n",
    "$$ \\sqrt{\\frac{\\Sigma_{i=0}^N (\\hat{y_i} - y_i)^2}{N} }$$\n",
    "\n",
    "Implement the root mean square error as a function."
   ]
  },
  {
   "cell_type": "code",
   "execution_count": null,
   "metadata": {},
   "outputs": [],
   "source": [
    "def rmse(y_pred: NDArray[np.float64], y_true: NDArray[np.float64]) -> float:\n",
    "    return np.sqrt(np.mean(np.square(y_pred - y_true)))\n",
    "\n",
    "\n",
    "test(rmse(np.array([1, 2, 3]), np.array([2, 3, 4])), 1.0)\n"
   ]
  },
  {
   "cell_type": "code",
   "execution_count": null,
   "metadata": {},
   "outputs": [],
   "source": []
  },
  {
   "cell_type": "code",
   "execution_count": null,
   "metadata": {},
   "outputs": [],
   "source": []
  },
  {
   "cell_type": "markdown",
   "metadata": {},
   "source": [
    "## Combining & splitting arrays\n",
    "\n",
    "If you are combining data from multiple sources, or are trying to extract data it's very helpful to combine and split arrays.  \n",
    "\n",
    "Let's start with two column-vectors\n",
    "\n",
    "```python\n",
    "x = np.array([1, 2, 3]).reshape(-1, 1)\n",
    "y = np.array([4, 5, 6]).reshape(-1, 1)\n",
    "```\n",
    "\n",
    "We can stack these two horizontally\n",
    "\n",
    "```python\n",
    "z_h = np.hstack([x, y])\n",
    "# array([[1, 4],\n",
    "#        [2, 5],\n",
    "#        [3, 6]])\n",
    "```\n",
    "\n",
    "or vertically\n",
    "\n",
    "```python\n",
    "z_v = np.vstack([x, y])\n",
    "# array([[1],\n",
    "#        [2],\n",
    "#        [3],\n",
    "#        [4],\n",
    "#        [5],\n",
    "#        [6]])\n",
    "```\n",
    "\n",
    "Similarly, we can split the two arrays again. Do not that you need to specify in how many pieces you split them\n",
    "\n",
    "```python\n",
    "np.hsplit(z_h, 2)\n",
    "np.vsplit(z_v, 2)\n",
    "```\n",
    "\n",
    "There is also an `np.split` function, but I would suggest to only use that for one-dimensional arrays, as the other two function names make your intentions much clearer.\n"
   ]
  },
  {
   "cell_type": "markdown",
   "metadata": {},
   "source": [
    "### Exercise\n",
    "\n",
    "The following array is badly sorted. Using splitting and stacking, create a sorted version of it"
   ]
  },
  {
   "cell_type": "code",
   "execution_count": null,
   "metadata": {},
   "outputs": [],
   "source": [
    "arr = np.array(\n",
    "    [\n",
    "        [4, 5, 6, 7],\n",
    "        [12, 13, 14, 15],\n",
    "        [0, 1, 2, 3],\n",
    "        [8, 9, 10, 11],\n",
    "    ]\n",
    ")\n",
    "\n",
    "\n",
    "a, b, c, d = np.vsplit(arr, 4)\n",
    "sorted_arr = np.vstack([c, a, d, b])\n",
    "\n",
    "test(\n",
    "    sorted_arr,\n",
    "    np.array(\n",
    "        [\n",
    "            [0, 1, 2, 3],\n",
    "            [4, 5, 6, 7],\n",
    "            [8, 9, 10, 11],\n",
    "            [12, 13, 14, 15],\n",
    "        ]\n",
    "    ),\n",
    ")\n"
   ]
  },
  {
   "cell_type": "code",
   "execution_count": null,
   "metadata": {},
   "outputs": [],
   "source": []
  },
  {
   "cell_type": "code",
   "execution_count": null,
   "metadata": {},
   "outputs": [],
   "source": []
  },
  {
   "cell_type": "code",
   "execution_count": null,
   "metadata": {},
   "outputs": [],
   "source": []
  },
  {
   "cell_type": "markdown",
   "metadata": {},
   "source": [
    "## Further learning\n",
    "\n",
    "Documentation\n",
    "\n",
    "- [numpy documentation](https://numpy.org/doc/stable/user/index.html#user)\n",
    "- [pandas documentation](https://pandas.pydata.org/docs/user_guide/index.html)\n",
    "- [matplotlib documentation](https://matplotlib.org/stable/index.html)\n",
    "\n",
    "Further packages\n",
    "\n",
    "- [seaborn](https://seaborn.pydata.org/): package built on top of matplotlib for statistical plots\n",
    "- [SciPy](https://docs.scipy.org/doc/scipy/tutorial/index.html#user-guide): advanced scientific computing library\n",
    "- [statsmodels](https://www.statsmodels.org/stable/index.html): statistical models\n",
    "- [scikit-learn](https://scikit-learn.org/stable/): machine learning library\n",
    "- [PyTorch](https://pytorch.org/docs/stable/index.html): deep learning library\n",
    "- [tensorflow](https://www.tensorflow.org/tutorials): deep learning library\n",
    "- [Keras](https://keras.io/): deep learning library \n",
    "- [aesara](https://github.com/aesara-devs/aesara) (used to be Theano): symbolic maths on multi-dimensional arrays\n",
    "- [JAX](https://github.com/google/jax): Composable transformations of Python & numpy on GPUs \n",
    "\n",
    "Books\n",
    "\n",
    "- [Jake VanderPlas - Data Science Handbook](https://jakevdp.github.io/PythonDataScienceHandbook/)\n",
    "- [Wes McKinnery - Python for Data Analysis](https://wesmckinney.com/book/)"
   ]
  }
 ],
 "metadata": {
  "interpreter": {
   "hash": "efa8b17b9e33237cbcac2860a8fba36b27177a72c7cfe842f3a84d2139868231"
  },
  "kernelspec": {
   "display_name": "Python 3.10.4 ('py310')",
   "language": "python",
   "name": "python3"
  },
  "language_info": {
   "codemirror_mode": {
    "name": "ipython",
    "version": 3
   },
   "file_extension": ".py",
   "mimetype": "text/x-python",
   "name": "python",
   "nbconvert_exporter": "python",
   "pygments_lexer": "ipython3",
   "version": "3.10.4"
  },
  "orig_nbformat": 4
 },
 "nbformat": 4,
 "nbformat_minor": 2
}
