{
 "cells": [
  {
   "cell_type": "markdown",
   "metadata": {},
   "source": [
    "# Matplotlib\n",
    "\n",
    "Matplotlib is a commonly used library for creating plots, used through its `pyplot` API, which is commonly abbreviated as `plt`.  \n",
    "The fundamental objects are the `Figure` (fig) and the `subplot` (ax).  \n",
    "Below is a figure [from the docs](https://matplotlib.org/stable/tutorials/introductory/usage.html) of the common elements of a plot, along with their respective methods.\n",
    "\n",
    "<img src=\"assets/matplotlib-anatomy.webp\" style=\"max-width: 700px\"/>\n",
    "\n",
    "\n",
    "You can find a lot of small recipes for creating plots in [my git repository](https://gitlab.com/marvin.vanaalst/matplotlib-cookbook/).  "
   ]
  },
  {
   "cell_type": "code",
   "execution_count": null,
   "metadata": {},
   "outputs": [],
   "source": [
    "from __future__ import annotations\n",
    "\n",
    "from typing import Any, cast\n",
    "\n",
    "import numpy as np\n",
    "import pandas as pd\n",
    "import matplotlib.pyplot as plt\n",
    "from numpy.typing import NDArray\n",
    "\n",
    "\n",
    "def test(x: Any, expected: Any) -> None:\n",
    "    if isinstance(x, np.ndarray) and isinstance(expected, np.ndarray):\n",
    "        if not np.array_equal(x, expected):\n",
    "            raise AssertionError(f\"Expected {expected}, got {x}\")\n",
    "    else:\n",
    "        if x != expected:\n",
    "            raise AssertionError(f\"Expected {expected}, got {x}\")\n",
    "    print(\"Test passed\")\n"
   ]
  },
  {
   "cell_type": "markdown",
   "metadata": {},
   "source": [
    "## Single subplots\n",
    "\n",
    "You can create a figure and a single subplots using `plt.subplots`.  \n",
    "Note that the first two arguments (`nrows` and `ncols`) are set to `1` by default, so you can leave them out.  \n",
    "We will use them later to create figures with multiple subplots.  \n"
   ]
  },
  {
   "cell_type": "code",
   "execution_count": null,
   "metadata": {},
   "outputs": [],
   "source": [
    "fig, ax = plt.subplots()\n",
    "plt.show()\n"
   ]
  },
  {
   "cell_type": "markdown",
   "metadata": {},
   "source": [
    "### Exercise: figure size\n",
    "\n",
    "`plt.subplots` takes an optional keyword argument `figsize=(width, height)`, which you can use to change the size of the figure.  \n",
    "\n",
    "Create three separate plots with sizes `(2, 2)`, `(2, 4)` and `(4, 2)`"
   ]
  },
  {
   "cell_type": "code",
   "execution_count": null,
   "metadata": {},
   "outputs": [],
   "source": [
    "fig, ax = plt.subplots(figsize=(2, 2))\n",
    "plt.show()\n",
    "\n",
    "fig, ax = plt.subplots(figsize=(2, 4))\n",
    "plt.show()\n",
    "\n",
    "fig, ax = plt.subplots(figsize=(4, 2))\n",
    "plt.show()\n",
    "\n"
   ]
  },
  {
   "cell_type": "code",
   "execution_count": null,
   "metadata": {},
   "outputs": [],
   "source": []
  },
  {
   "cell_type": "code",
   "execution_count": null,
   "metadata": {},
   "outputs": [],
   "source": []
  },
  {
   "cell_type": "code",
   "execution_count": null,
   "metadata": {},
   "outputs": [],
   "source": []
  },
  {
   "cell_type": "markdown",
   "metadata": {},
   "source": [
    "## Line plot\n",
    "\n",
    "We can draw a line-plot using the `.plot` method on a subplot (ax).  \n",
    "We then can annotate that plot further, using the `set_xlabel`, `set_ylabel` and `set_title` methods on the subplot.  \n"
   ]
  },
  {
   "cell_type": "code",
   "execution_count": null,
   "metadata": {},
   "outputs": [],
   "source": [
    "x = np.linspace(-np.pi, np.pi, 256)\n",
    "y = np.sin(x)\n",
    "\n",
    "fig, ax = plt.subplots()\n",
    "ax.plot(x, y)\n",
    "ax.set_xlabel(\"Time / a.u.\")\n",
    "ax.set_ylabel(\"Value / a.u.\")\n",
    "ax.set_title(\"My first plot\")\n",
    "plt.show()"
   ]
  },
  {
   "cell_type": "markdown",
   "metadata": {},
   "source": [
    "### Exercise\n",
    "\n",
    "Extend the plot above by adding the cosine as a second line to it."
   ]
  },
  {
   "cell_type": "code",
   "execution_count": null,
   "metadata": {},
   "outputs": [],
   "source": [
    "x = np.linspace(-np.pi, np.pi, 256)\n",
    "\n",
    "fig, ax = plt.subplots()\n",
    "ax.plot(x, np.sin(x))\n",
    "ax.plot(x, np.cos(x))\n",
    "ax.set_xlabel(\"Time / a.u.\")\n",
    "ax.set_ylabel(\"Value / a.u.\")\n",
    "ax.set_title(\"My first plot\")\n",
    "plt.show()"
   ]
  },
  {
   "cell_type": "code",
   "execution_count": null,
   "metadata": {},
   "outputs": [],
   "source": []
  },
  {
   "cell_type": "code",
   "execution_count": null,
   "metadata": {},
   "outputs": [],
   "source": []
  },
  {
   "cell_type": "code",
   "execution_count": null,
   "metadata": {},
   "outputs": [],
   "source": []
  },
  {
   "cell_type": "markdown",
   "metadata": {},
   "source": [
    "## Fill below line\n",
    "\n",
    "You can fill the area between a line and the x-axis with `.fill_between(x, y)`.  \n",
    "This is a great technique if you want to enhance the perception of the magnitude of the data.  "
   ]
  },
  {
   "cell_type": "code",
   "execution_count": null,
   "metadata": {},
   "outputs": [],
   "source": [
    "x = np.linspace(-np.pi, np.pi, 256)\n",
    "y1 = np.sin(x) + 2\n",
    "\n",
    "fig, ax = plt.subplots()\n",
    "ax.plot(x, y1)\n",
    "ax.fill_between(x, y1, color='black', alpha=0.2)\n",
    "plt.show()"
   ]
  },
  {
   "cell_type": "markdown",
   "metadata": {},
   "source": [
    "Similarly, you can fill the area between two lines by supplying a second array to `.fill_between(x, y1, y2)`"
   ]
  },
  {
   "cell_type": "code",
   "execution_count": null,
   "metadata": {},
   "outputs": [],
   "source": [
    "x = np.linspace(-np.pi, np.pi, 256)\n",
    "y1 = np.sin(x) + 2\n",
    "y2 = np.sin(x) + 4\n",
    "\n",
    "fig, ax = plt.subplots()\n",
    "ax.plot(x, y1)\n",
    "ax.plot(x, y2)\n",
    "ax.fill_between(x, y1, y2, color='black', alpha=0.2)\n",
    "plt.show()"
   ]
  },
  {
   "cell_type": "markdown",
   "metadata": {},
   "source": [
    "### Exercise\n",
    "\n",
    "Reproduce the plot below\n",
    "\n",
    "<img src=\"assets/plot-fill-between.png\">"
   ]
  },
  {
   "cell_type": "code",
   "execution_count": null,
   "metadata": {},
   "outputs": [],
   "source": [
    "x = np.linspace(-3 / 2 * np.pi, 1 / 2 * np.pi, 256)\n",
    "y1 = np.sin(x) + 2\n",
    "y2 = np.cos(x + np.pi / 2) + 4\n",
    "\n",
    "fig, ax = plt.subplots()\n",
    "ax.plot(x, y1)\n",
    "ax.plot(x, y2)\n",
    "ax.fill_between(x, y1, y2, color=\"black\", alpha=0.2)\n",
    "plt.show()\n"
   ]
  },
  {
   "cell_type": "code",
   "execution_count": null,
   "metadata": {},
   "outputs": [],
   "source": []
  },
  {
   "cell_type": "code",
   "execution_count": null,
   "metadata": {},
   "outputs": [],
   "source": []
  },
  {
   "cell_type": "code",
   "execution_count": null,
   "metadata": {},
   "outputs": [],
   "source": []
  },
  {
   "cell_type": "markdown",
   "metadata": {},
   "source": [
    "## Scatter plot\n",
    "\n",
    "To plot two-dimensional data, the easiest plot is a scatter-plot, which for every pair $x_i$, $y_i$ a circle is displayed."
   ]
  },
  {
   "cell_type": "code",
   "execution_count": null,
   "metadata": {},
   "outputs": [],
   "source": [
    "n = 256\n",
    "x = np.random.normal(0, 1, n)\n",
    "y = np.random.normal(0, 1, n)\n",
    "\n",
    "fig, ax = plt.subplots()\n",
    "ax.scatter(x, y)\n",
    "plt.show()"
   ]
  },
  {
   "cell_type": "markdown",
   "metadata": {},
   "source": [
    "If more information is available, the third dimension can be mapped into other visible information. For example, here we are using color to convey a third set of data"
   ]
  },
  {
   "cell_type": "code",
   "execution_count": null,
   "metadata": {},
   "outputs": [],
   "source": [
    "# With color (c)\n",
    "\n",
    "n = 256\n",
    "x = np.random.normal(0, 1, n)\n",
    "y = np.random.normal(0, 1, n)\n",
    "\n",
    "# Distance to center\n",
    "c = np.sqrt(x ** 2 + y ** 2)\n",
    "\n",
    "fig, ax = plt.subplots()\n",
    "ax.scatter(x, y, c=c)\n",
    "plt.show()"
   ]
  },
  {
   "cell_type": "markdown",
   "metadata": {},
   "source": [
    "Here the same with the size of the circles"
   ]
  },
  {
   "cell_type": "code",
   "execution_count": null,
   "metadata": {},
   "outputs": [],
   "source": [
    "# Change marker size (s)\n",
    "\n",
    "n = 256\n",
    "x = np.random.normal(0, 1, n)\n",
    "y = np.random.normal(0, 1, n)\n",
    "\n",
    "# Distance to center\n",
    "s = np.sqrt(x ** 2 + y ** 2) * 15\n",
    "\n",
    "fig, ax = plt.subplots()\n",
    "ax.scatter(x, y, s=s)\n",
    "plt.show()"
   ]
  },
  {
   "cell_type": "markdown",
   "metadata": {},
   "source": [
    "### Exercise\n",
    "\n",
    "Again using the \"distance to center\" information as the third data set, make a scatter plot where that information is used for both the color and the size of the circles."
   ]
  },
  {
   "cell_type": "code",
   "execution_count": null,
   "metadata": {},
   "outputs": [],
   "source": [
    "# Change marker size (s)\n",
    "\n",
    "n = 256\n",
    "x = np.random.normal(0, 1, n)\n",
    "y = np.random.normal(0, 1, n)\n",
    "\n",
    "# Distance to center\n",
    "s = np.sqrt(x ** 2 + y ** 2) * 15\n",
    "\n",
    "fig, ax = plt.subplots()\n",
    "ax.scatter(x, y, s=s, c=s)\n",
    "plt.show()"
   ]
  },
  {
   "cell_type": "code",
   "execution_count": null,
   "metadata": {},
   "outputs": [],
   "source": []
  },
  {
   "cell_type": "code",
   "execution_count": null,
   "metadata": {},
   "outputs": [],
   "source": []
  },
  {
   "cell_type": "code",
   "execution_count": null,
   "metadata": {},
   "outputs": [],
   "source": []
  },
  {
   "cell_type": "markdown",
   "metadata": {},
   "source": [
    "## Bar plots\n",
    "\n",
    "While line plots are useful for *continuous* data, bar plots are useful for *discrete* data, e.g. when you have categories of data"
   ]
  },
  {
   "cell_type": "code",
   "execution_count": null,
   "metadata": {},
   "outputs": [],
   "source": [
    "x = [1, 2, 3, 4, 5]\n",
    "y = [1, 2, 3, 4, 5]\n",
    "\n",
    "fig, ax = plt.subplots()\n",
    "ax.bar(x, y)\n",
    "plt.show()"
   ]
  },
  {
   "cell_type": "markdown",
   "metadata": {},
   "source": [
    "### Exercise: xtick labels\n",
    "\n",
    "Currently the plot just shows the coordinates 1, 2, 3, 4, 5 as the labels for each of the bars. Usually that is not what you want to display, but rather a more meaningful name.  \n",
    "\n",
    "You can set custom ticks using `ax.set_xticks` and labels using `ax.set_xticklabels`.  \n",
    "\n",
    "**Note that you always need to supply ticks before you are supplying tick labels.**\n",
    "\n",
    "Using the x-coordinates as xticks and the labels \"a\", \"b\", \"c\", \"d\", \"e\", set custom tick labels to the x-axis of the bar-plot above"
   ]
  },
  {
   "cell_type": "code",
   "execution_count": null,
   "metadata": {},
   "outputs": [],
   "source": [
    "x = [1, 2, 3, 4, 5]\n",
    "y = [1, 2, 3, 4, 5]\n",
    "xticklabels = [\"a\", \"b\", \"c\", \"d\", \"e\"]\n",
    "\n",
    "fig, ax = plt.subplots()\n",
    "ax.bar(x, y)\n",
    "ax.set_xticks(x)\n",
    "ax.set_xticklabels(xticklabels)\n",
    "plt.show()"
   ]
  },
  {
   "cell_type": "code",
   "execution_count": null,
   "metadata": {},
   "outputs": [],
   "source": []
  },
  {
   "cell_type": "code",
   "execution_count": null,
   "metadata": {},
   "outputs": [],
   "source": []
  },
  {
   "cell_type": "code",
   "execution_count": null,
   "metadata": {},
   "outputs": [],
   "source": []
  },
  {
   "cell_type": "markdown",
   "metadata": {},
   "source": [
    "## Histogram\n",
    "\n",
    "Histograms are useful to quickly display the distribution of large data sets.  \n",
    "In those plots the data is separated into \"bins\" (e.g. $0 < x <= 1$, then $1 < x <= 2$ etc) and then the number of data points in each bin is counted, which is then displayed as a bar plot"
   ]
  },
  {
   "cell_type": "code",
   "execution_count": null,
   "metadata": {},
   "outputs": [],
   "source": [
    "# Count of values\n",
    "\n",
    "fig, ax = plt.subplots()\n",
    "ax.hist(np.random.normal(0, 1, 256), bins=None)\n",
    "plt.show()\n"
   ]
  },
  {
   "cell_type": "code",
   "execution_count": null,
   "metadata": {},
   "outputs": [],
   "source": [
    "# Normalised\n",
    "\n",
    "fig, ax = plt.subplots()\n",
    "ax.hist(np.random.normal(0, 1, 256), bins=None, density=True)\n",
    "plt.show()\n"
   ]
  },
  {
   "cell_type": "code",
   "execution_count": null,
   "metadata": {},
   "outputs": [],
   "source": [
    "# Cumulative\n",
    "\n",
    "fig, ax = plt.subplots()\n",
    "ax.hist(np.random.normal(0, 1, 256), bins=None, cumulative=True)\n",
    "plt.show()\n"
   ]
  },
  {
   "cell_type": "code",
   "execution_count": null,
   "metadata": {},
   "outputs": [],
   "source": [
    "# 2d\n",
    "\n",
    "x = np.random.normal(0, 1, 256)\n",
    "y = np.random.normal(0, 1, 256)\n",
    "\n",
    "fig, ax = plt.subplots()\n",
    "ax.hist2d(x, y)\n",
    "plt.show()\n"
   ]
  },
  {
   "cell_type": "code",
   "execution_count": null,
   "metadata": {},
   "outputs": [],
   "source": []
  },
  {
   "cell_type": "code",
   "execution_count": null,
   "metadata": {},
   "outputs": [],
   "source": []
  },
  {
   "cell_type": "code",
   "execution_count": null,
   "metadata": {},
   "outputs": [],
   "source": []
  },
  {
   "cell_type": "markdown",
   "metadata": {},
   "source": [
    "## Boxplot"
   ]
  },
  {
   "cell_type": "code",
   "execution_count": null,
   "metadata": {},
   "outputs": [],
   "source": [
    "data = np.random.normal(0, 1, (50, 10))\n",
    "\n",
    "fig, ax = plt.subplots()\n",
    "ax.boxplot(data)\n",
    "plt.show()"
   ]
  },
  {
   "cell_type": "code",
   "execution_count": null,
   "metadata": {},
   "outputs": [],
   "source": []
  },
  {
   "cell_type": "code",
   "execution_count": null,
   "metadata": {},
   "outputs": [],
   "source": []
  },
  {
   "cell_type": "code",
   "execution_count": null,
   "metadata": {},
   "outputs": [],
   "source": []
  },
  {
   "cell_type": "markdown",
   "metadata": {},
   "source": [
    "## Adding a legend\n",
    "\n",
    "You can create and position a legend how you want.  \n",
    "There is a small catch here though: the position of the label is defined using a handle (the red square in the figure below), and the position of that handle changes with the keywords.\n",
    "\n",
    "![](assets/matplotlib-legend.png)\n",
    "\n",
    "The possible positions are: best, upper right, upper left, lower left, lower right, right, center left, center right, lower center, upper center, center\n"
   ]
  },
  {
   "cell_type": "code",
   "execution_count": null,
   "metadata": {},
   "outputs": [],
   "source": [
    "# Default label position (matplotlib chooses best position)\n",
    "\n",
    "n = 256\n",
    "x = np.linspace(-np.pi, np.pi, n)\n",
    "sin = np.sin(x)\n",
    "cos = np.cos(x)\n",
    "\n",
    "fig, ax = plt.subplots()\n",
    "ax.plot(x, sin, label=\"sin(x)\")\n",
    "ax.plot(x, cos, label=\"cos(x)\")\n",
    "ax.legend()\n",
    "plt.show()"
   ]
  },
  {
   "cell_type": "code",
   "execution_count": null,
   "metadata": {},
   "outputs": [],
   "source": [
    "# Specify position using the loc keyword\n",
    "\n",
    "fig, ax = plt.subplots()\n",
    "ax.plot([0, 1], [0, 1], color=(1, 0, 0), label=\"Red\")\n",
    "ax.plot([0, 1], [1, 2], color=(0, 1, 0), label=\"Green\")\n",
    "ax.plot([0, 1], [2, 3], color=(0, 0, 1), label=\"Blue\")\n",
    "ax.legend(loc=\"lower right\")\n",
    "plt.show()"
   ]
  },
  {
   "cell_type": "code",
   "execution_count": null,
   "metadata": {},
   "outputs": [],
   "source": [
    "# my personal favorite, place it outside the axes\n",
    "# note that the \"upper left\" means that the point (1.01, 1) refers to the upper left corner of the legend\n",
    "# which is then at x-position 1.01 (so slightly outside the plot) and y-position 1, so at the top\n",
    "\n",
    "fig, ax = plt.subplots()\n",
    "ax.plot([0, 1], [0, 1], color=(1, 0, 0), label=\"Red\")\n",
    "ax.plot([0, 1], [1, 2], color=(0, 1, 0), label=\"Green\")\n",
    "ax.plot([0, 1], [2, 3], color=(0, 0, 1), label=\"Blue\")\n",
    "ax.legend(\n",
    "    loc=\"upper left\",\n",
    "    bbox_to_anchor=(1.01, 1),  # Moves the axis the the position 1.01, 1\n",
    "    borderaxespad=0,  # Removes the padding between the ax and the legend\n",
    ")\n",
    "plt.show()\n"
   ]
  },
  {
   "cell_type": "code",
   "execution_count": null,
   "metadata": {},
   "outputs": [],
   "source": []
  },
  {
   "cell_type": "code",
   "execution_count": null,
   "metadata": {},
   "outputs": [],
   "source": []
  },
  {
   "cell_type": "code",
   "execution_count": null,
   "metadata": {},
   "outputs": [],
   "source": []
  },
  {
   "cell_type": "markdown",
   "metadata": {},
   "source": [
    "## Scaling the axes"
   ]
  },
  {
   "cell_type": "code",
   "execution_count": null,
   "metadata": {},
   "outputs": [],
   "source": [
    "# You can change the scaling of the x and y axis with set_yscale\n",
    "# linear, log, symlog, logit, ...\n",
    "\n",
    "x = np.geomspace(1e0, 1e6)\n",
    "y = x\n",
    "\n",
    "fig, ax = plt.subplots()\n",
    "ax.plot(x, y)\n",
    "ax.set_xscale(\"log\")\n",
    "ax.set_yscale(\"log\")"
   ]
  },
  {
   "cell_type": "code",
   "execution_count": null,
   "metadata": {},
   "outputs": [],
   "source": []
  },
  {
   "cell_type": "code",
   "execution_count": null,
   "metadata": {},
   "outputs": [],
   "source": []
  },
  {
   "cell_type": "code",
   "execution_count": null,
   "metadata": {},
   "outputs": [],
   "source": []
  },
  {
   "cell_type": "markdown",
   "metadata": {},
   "source": [
    "## Grid\n",
    "\n",
    "Using `ax.grid` you can set grid-lines at the ticks.  \n",
    "You can choose whether to use minor, major or **both** ticks and whether you want to add it to the x, y or **both** axes.  \n",
    "In most cases the default setting looks good.  "
   ]
  },
  {
   "cell_type": "code",
   "execution_count": null,
   "metadata": {},
   "outputs": [],
   "source": [
    "n = 256\n",
    "x = np.linspace(-np.pi, np.pi, n)\n",
    "sin = np.sin(x)\n",
    "cos = np.cos(x)\n",
    "\n",
    "fig, ax = plt.subplots()\n",
    "ax.plot(x, sin, label=\"sin(x)\")\n",
    "ax.plot(x, cos, label=\"cos(x)\")\n",
    "ax.legend()\n",
    "ax.grid()\n",
    "plt.show()"
   ]
  },
  {
   "cell_type": "code",
   "execution_count": null,
   "metadata": {},
   "outputs": [],
   "source": []
  },
  {
   "cell_type": "code",
   "execution_count": null,
   "metadata": {},
   "outputs": [],
   "source": []
  },
  {
   "cell_type": "code",
   "execution_count": null,
   "metadata": {},
   "outputs": [],
   "source": []
  },
  {
   "cell_type": "markdown",
   "metadata": {},
   "source": [
    "## Multiple subplots\n",
    "\n",
    "Or you can create a figure with multiple subplots (axes) by changing the `nrows` and `ncols` arguments of `plt.subplots`.  \n",
    "Note that the function now returns a tuple of the figure object and an **array** of axes objects.  \n",
    "\n",
    "You can directly access those arrays, but that is rather cumbersome."
   ]
  },
  {
   "cell_type": "code",
   "execution_count": null,
   "metadata": {},
   "outputs": [],
   "source": [
    "n = 256\n",
    "x = np.linspace(-np.pi, np.pi, n)\n",
    "\n",
    "fig, axs = plt.subplots(2, 2)\n",
    "\n",
    "axs[0, 0].plot(x, np.sin(x ** 0))\n",
    "axs[0, 1].plot(x, np.sin(x ** 1))\n",
    "axs[1, 0].plot(x, np.sin(x ** 2))\n",
    "axs[1, 1].plot(x, np.sin(x ** 3))\n",
    "\n",
    "fig.tight_layout()\n",
    "plt.show()\n"
   ]
  },
  {
   "cell_type": "markdown",
   "metadata": {},
   "source": [
    "Since multiple subplots are often 2-dimensional arrays, one particular handy trick is to *flatten* them before iterating.  \n",
    "This turns them into a 1-dimensional array, which in this case is often easier to handle.  "
   ]
  },
  {
   "cell_type": "code",
   "execution_count": null,
   "metadata": {},
   "outputs": [],
   "source": [
    "x = np.linspace(-np.pi, np.pi, 256)\n",
    "\n",
    "fig, axs = plt.subplots(2, 2)\n",
    "for i, ax in enumerate(axs.flatten()):\n",
    "    ax.plot(x, np.sin(x ** i))\n",
    "\n",
    "fig.tight_layout()\n",
    "plt.show()\n"
   ]
  },
  {
   "cell_type": "markdown",
   "metadata": {},
   "source": [
    "Another trick is to unpack them directly, but in this case you will need to update the code whenever you change the number of subplots."
   ]
  },
  {
   "cell_type": "code",
   "execution_count": null,
   "metadata": {},
   "outputs": [],
   "source": [
    "x = np.linspace(-np.pi, np.pi, 256)\n",
    "\n",
    "fig, ((ax1, ax2), (ax3, ax4)) = plt.subplots(2, 2)\n",
    "\n",
    "ax1.plot(x, np.sin(x ** 0))\n",
    "ax2.plot(x, np.sin(x ** 1))\n",
    "ax3.plot(x, np.sin(x ** 2))\n",
    "ax4.plot(x, np.sin(x ** 3))\n",
    "\n",
    "fig.tight_layout()  # otherwise it will look ugly\n",
    "plt.show()\n"
   ]
  },
  {
   "cell_type": "markdown",
   "metadata": {},
   "source": [
    "### Exercise: 2D-distributions\n",
    "\n",
    "Create two arrays (x and y) of 256 randomly created, normally-distributed, points.  \n",
    "Calculate their distance to the center.  \n",
    "\n",
    "Create a figure with 2x2 subplots, in which you plot\n",
    "\n",
    "- a histogram of x\n",
    "- a histogram of y\n",
    "- a scatter plot of x and y, coloring their distance\n",
    "- a 2d-histogram of x and y\n",
    "\n",
    "Which representation of the data did help you understand its properties the best?  \n",
    "Can you think of other representations? Try plotting them as well."
   ]
  },
  {
   "cell_type": "code",
   "execution_count": null,
   "metadata": {},
   "outputs": [],
   "source": [
    "n = 256\n",
    "x = np.random.normal(0, 1, n)\n",
    "y = np.random.normal(0, 1, n)\n",
    "\n",
    "# Distance to center\n",
    "c = np.sqrt(x ** 2 + y ** 2)\n",
    "\n",
    "fig, ((ax1, ax2), (ax3, ax4)) = plt.subplots(2, 2, figsize=(14, 8))\n",
    "ax1.hist(x)\n",
    "ax2.hist(y)\n",
    "ax3.scatter(x, y, c=c)\n",
    "ax4.hist2d(x, y)\n",
    "\n",
    "fig.tight_layout()\n",
    "plt.show()"
   ]
  },
  {
   "cell_type": "code",
   "execution_count": null,
   "metadata": {},
   "outputs": [],
   "source": []
  },
  {
   "cell_type": "code",
   "execution_count": null,
   "metadata": {},
   "outputs": [],
   "source": []
  },
  {
   "cell_type": "code",
   "execution_count": null,
   "metadata": {},
   "outputs": [],
   "source": []
  },
  {
   "cell_type": "markdown",
   "metadata": {},
   "source": [
    "## Further learning\n",
    "\n",
    "Documentation\n",
    "\n",
    "- [numpy documentation](https://numpy.org/doc/stable/user/index.html#user)\n",
    "- [pandas documentation](https://pandas.pydata.org/docs/user_guide/index.html)\n",
    "- [matplotlib documentation](https://matplotlib.org/stable/index.html)\n",
    "\n",
    "Further packages\n",
    "\n",
    "- [seaborn](https://seaborn.pydata.org/): package built on top of matplotlib for statistical plots\n",
    "- [SciPy](https://docs.scipy.org/doc/scipy/tutorial/index.html#user-guide): advanced scientific computing library\n",
    "- [statsmodels](https://www.statsmodels.org/stable/index.html): statistical models\n",
    "- [scikit-learn](https://scikit-learn.org/stable/): machine learning library\n",
    "- [PyTorch](https://pytorch.org/docs/stable/index.html): deep learning library\n",
    "- [tensorflow](https://www.tensorflow.org/tutorials): deep learning library\n",
    "- [Keras](https://keras.io/): deep learning library \n",
    "- [aesara](https://github.com/aesara-devs/aesara) (used to be Theano): symbolic maths on multi-dimensional arrays\n",
    "- [JAX](https://github.com/google/jax): Composable transformations of Python & numpy on GPUs \n",
    "\n",
    "Books\n",
    "\n",
    "- [Jake VanderPlas - Data Science Handbook](https://jakevdp.github.io/PythonDataScienceHandbook/)\n",
    "- [Wes McKinnery - Python for Data Analysis](https://wesmckinney.com/book/)"
   ]
  }
 ],
 "metadata": {
  "interpreter": {
   "hash": "efa8b17b9e33237cbcac2860a8fba36b27177a72c7cfe842f3a84d2139868231"
  },
  "kernelspec": {
   "display_name": "Python 3.10.4 ('py310')",
   "language": "python",
   "name": "python3"
  },
  "language_info": {
   "codemirror_mode": {
    "name": "ipython",
    "version": 3
   },
   "file_extension": ".py",
   "mimetype": "text/x-python",
   "name": "python",
   "nbconvert_exporter": "python",
   "pygments_lexer": "ipython3",
   "version": "3.10.4"
  },
  "orig_nbformat": 4
 },
 "nbformat": 4,
 "nbformat_minor": 2
}
