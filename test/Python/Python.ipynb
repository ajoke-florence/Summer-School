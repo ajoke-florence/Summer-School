{
 "cells": [
  {
   "cell_type": "code",
   "execution_count": null,
   "metadata": {},
   "outputs": [],
   "source": [
    "from modelbase.ode import Model, Simulator\n",
    "from matplotlib import pyplot as plt\n",
    "\n",
    "\n",
    "def constant(k: float) -> float:\n",
    "    return k\n",
    "\n",
    "\n",
    "def proportional(k: float, s: float) -> float:\n",
    "    return k * s\n",
    "\n",
    "\n",
    "m = Model()\n",
    "m.add_compounds([\"S\", \"P\"])\n",
    "m.add_parameters({\"k_in\": 1, \"k_1\": 1, \"k_out\": 1})\n",
    "m.add_reaction_from_args(\"v0\", constant, {\"S\": 1}, [\"k_in\"])\n",
    "m.add_reaction_from_args(\"v1\", proportional, {\"S\": -1, \"P\": 1}, [\"k_1\", \"S\"])\n",
    "m.add_reaction_from_args(\"v2\", proportional, {\"P\": -1}, [\"k_out\", \"P\"])\n",
    "\n",
    "s = Simulator(m)\n",
    "s.initialise({\"S\": 0, \"P\": 0})\n",
    "s.simulate(10)\n",
    "fig, ax = s.plot(xlabel=\"time / a.u.\", ylabel=\"Concentration / a.u.\")\n",
    "plt.show()\n"
   ]
  },
  {
   "cell_type": "code",
   "execution_count": null,
   "metadata": {},
   "outputs": [],
   "source": []
  }
 ],
 "metadata": {
  "interpreter": {
   "hash": "b676a1f48043543bee5e6a103cd848e4f3aa4139dd900942f6e24362973f5fb9"
  },
  "kernelspec": {
   "display_name": "Python 3.10.4 ('base')",
   "language": "python",
   "name": "python3"
  },
  "language_info": {
   "codemirror_mode": {
    "name": "ipython",
    "version": 3
   },
   "file_extension": ".py",
   "mimetype": "text/x-python",
   "name": "python",
   "nbconvert_exporter": "python",
   "pygments_lexer": "ipython3",
   "version": "3.10.4"
  },
  "orig_nbformat": 4
 },
 "nbformat": 4,
 "nbformat_minor": 2
}
