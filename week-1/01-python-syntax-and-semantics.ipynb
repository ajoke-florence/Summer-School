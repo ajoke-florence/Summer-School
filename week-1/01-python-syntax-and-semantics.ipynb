{
 "cells": [
  {
   "cell_type": "markdown",
   "metadata": {},
   "source": [
    "# Python syntax and semantics\n",
    "\n",
    "Programming in every language at its core is about transforming data.  \n",
    "In order to build larger programs we need ways to structure both data and the transformations into larger constructs.  \n",
    "In the course of this tutorial we will learn a small set of ways to do both.  \n"
   ]
  },
  {
   "cell_type": "markdown",
   "metadata": {},
   "source": [
    "# Jupyter notebook overview\n",
    "\n",
    "* Splits code into cells\n",
    "    * Code cells\n",
    "    * Markdown cells\n",
    "* Command mode (**no blue border around code cell**)\n",
    "    * `Esc` to enter\n",
    "    * `A` to create cell above\n",
    "    * `B` to create cell below\n",
    "    * `D + D` to delete cell\n",
    "    * `M` to change cell type to Markdown\n",
    "    * `Y` to change cell type to Code\n",
    "* Edit mode (**with blue border around code cell**)\n",
    "    * `Enter`\n",
    "    * `Ctrl + Shift + -` Split cell at cursor position\n",
    "* Execute code in a cell\n",
    "    * `Ctrl + Enter` run selected cell\n",
    "    * `Shift + Enter` run selected cell and select below\n",
    "\n",
    "\n",
    "If vscode asks you which kernel you want to choose, choose **base** as shown in the image below\n",
    "\n",
    "![Kernel choice, take base](assets/choose-kernel.png)"
   ]
  },
  {
   "cell_type": "markdown",
   "metadata": {},
   "source": [
    "# Running cells\n",
    "\n",
    "All of the notebooks you will work with this week have a cell of imports at the top, like the one below here.  \n",
    "We will explain later what imports are, for now please just run this cell.  \n",
    "\n",
    "**For all notebooks provided this week it is important to always run those top cells!**\n",
    "\n",
    "You can always check if you have executed the cell (and in which order), by looking at the number in brackets in the lower left corner of the cell, \n",
    "as shown below\n",
    "\n",
    "\n",
    "![](assets/vscode-cell-status.png)"
   ]
  },
  {
   "cell_type": "code",
   "execution_count": null,
   "metadata": {},
   "outputs": [],
   "source": [
    "from __future__ import annotations\n",
    "\n",
    "import io\n",
    "from contextlib import redirect_stdout\n",
    "from dataclasses import dataclass\n",
    "from pathlib import Path\n",
    "from typing import Any, Callable\n",
    "\n",
    "\n",
    "def capture_stdout(f: Callable[..., None]) -> str:\n",
    "    res = io.StringIO()\n",
    "    with redirect_stdout(res):\n",
    "        f()\n",
    "    return res.getvalue()[:-1]\n",
    "\n",
    "\n",
    "def test(x: Any, expected: Any) -> None:\n",
    "    if x != expected:\n",
    "        raise AssertionError(f\"Expected {expected}, got {x}\")\n",
    "    print(\"Test passed\")\n",
    "\n"
   ]
  },
  {
   "cell_type": "markdown",
   "metadata": {},
   "source": [
    "## Getting help and understanding errors\n",
    "\n",
    "Your code will produce errors and you will forget how certain functions work.  \n",
    "That's absolutely fine and nothing to worry about. \n",
    "Since no-one can remember everything, programmers usually build helpers for themselves.  \n",
    "\n",
    "Your first tool for that is a **comment**. You write comments following the `#` character.  \n",
    "\n",
    "```python\n",
    "# Future me: this is why I implemented the function in the following way\n",
    "```\n",
    "\n",
    "The second tool is a documentation string (or `docstring` for short).  \n",
    "You write docstrings in the first line of a function (more on that later).  \n",
    "\n",
    "```python\n",
    "def my_func():\n",
    "    \"\"\"Some very important information\"\"\"\n",
    "    return None\n",
    "```\n",
    "\n",
    "Other people also (hopefully) write `docstrings`.  \n",
    "For any function, you can call the `help` function to get its `docstring`.\n",
    "\n",
    "```python\n",
    "help(print)\n",
    "```\n",
    "\n",
    "Alternatively, in **jupyter notebooks** you can use `?` and `??` after the function name to display the `docstring` or even the entire function definition.\n",
    "\n",
    "```python\n",
    "my_func? \n",
    "    Signature: myfunc()\n",
    "    Docstring: Some very important information\n",
    "\n",
    "my_func??\n",
    "    Signature: myfunc()\n",
    "    Source:   \n",
    "    def myfunc():\n",
    "        \"\"\"Some very important information\"\"\"\n",
    "        return None\n",
    "```\n",
    "\n",
    "\n",
    "If you want to know what methods are available for a given object, thet `dir()` function will tell you that.  \n",
    "Another quick way of checking this is to write `object.` and then use the `<TAB>` key to auto-complete.  \n",
    "\n",
    "```python\n",
    "dir(\"Hello, World\")\n",
    "```\n",
    "\n",
    "You will frequently incounter errors when programming - that perfectly normal, however you should learn to understand what they *mean*.  \n",
    "For example, if you type `\"1\" + 1` you will get something along the lines of `TypeError: can only concatenate str (not \"int\") to str`.  \n",
    "Don't worry if you don't understand yet what that means, it hopefully will get clear in the next minutes.  \n",
    "Of course, you can always ask us if you don't know how to proceed\n"
   ]
  },
  {
   "cell_type": "code",
   "execution_count": null,
   "metadata": {},
   "outputs": [],
   "source": []
  },
  {
   "cell_type": "code",
   "execution_count": null,
   "metadata": {},
   "outputs": [],
   "source": []
  },
  {
   "cell_type": "code",
   "execution_count": null,
   "metadata": {},
   "outputs": [],
   "source": []
  },
  {
   "cell_type": "markdown",
   "metadata": {},
   "source": [
    "# Basic data types\n",
    "\n",
    "Python has four basic data types: `None`, `bool`, `int` and `float`\n",
    "\n",
    "| Type   | Value(s)                  | \n",
    "| ---    | ---                       | \n",
    "| `None` | `None`                    | \n",
    "|`bool`  |  `True`, `False`          |\n",
    "|`int`   |  ..., -1, 0, 1, ...       |\n",
    "|`float` |  ..., -3.14, 0.0, 2.71, ... |\n",
    "\n",
    "We will go through each of those four types, showing their use case and how they can be transformed.\n"
   ]
  },
  {
   "cell_type": "markdown",
   "metadata": {},
   "source": [
    "## Bool\n",
    "\n",
    "The boolean type `bool` can only hold the values `True` and `False`.  \n",
    "It can be used for simple logic operations.  \n",
    "There are five operators for `bool`.  \n",
    "\n",
    "| Operator | `True` if                            |\n",
    "| -------  | ---------                            |\n",
    "| `and`    | **both** the inputs are `True`       | \n",
    "| `or`     | one or both of the inputs are `True` | \n",
    "| `not`    | the input is `False`                 | \n",
    "| `==`     | both inputs are equal                | \n",
    "| `!=`     | both inputs are unequal              | "
   ]
  },
  {
   "cell_type": "code",
   "execution_count": null,
   "metadata": {},
   "outputs": [],
   "source": [
    "print(True and False)\n",
    "print(True or False)\n",
    "print(not True)\n",
    "print(True == True)\n",
    "print(True != False)\n"
   ]
  },
  {
   "cell_type": "markdown",
   "metadata": {},
   "source": [
    "### Exercise: logic / truth table\n",
    "\n",
    "Fill out the following truth table for two inputs `p` and `q`\n",
    "\n",
    "| p   | q   | p and q | p or q  | \n",
    "| --- | --- | ---     | ---     |\n",
    "| T   | T   | ?       | ?       |\n",
    "| T   | F   | ?       | ?       |\n",
    "| F   | T   | ?       | ?       |\n",
    "| F   | F   | ?       | ?       |\n"
   ]
  },
  {
   "cell_type": "code",
   "execution_count": null,
   "metadata": {},
   "outputs": [],
   "source": []
  },
  {
   "cell_type": "code",
   "execution_count": null,
   "metadata": {},
   "outputs": [],
   "source": []
  },
  {
   "cell_type": "code",
   "execution_count": null,
   "metadata": {},
   "outputs": [],
   "source": []
  },
  {
   "cell_type": "markdown",
   "metadata": {},
   "source": [
    "## Detour: assignment and functions\n",
    "\n",
    "Before we continue exploring things to do with those data types, let's introduce two important building blocks for programs: **assignment statements** and **functions**.  \n",
    "You can assign a value to a variable using the `name = value` syntax, for example\n",
    "\n",
    "```python\n",
    "x1 = 1\n",
    "```\n",
    "\n",
    "Note that the syntax requires your name to start with an character.  \n",
    "\n",
    "```python\n",
    "1x = 1  # this doesn't work!\n",
    "```\n",
    "\n",
    "Function calls you have already seen with e.g.\n",
    "\n",
    "```python\n",
    "print(True and False)\n",
    "```\n",
    "\n",
    "This works, because the print function is already supplied by the language.  \n",
    "\n",
    "To create your own custom functions you need to define them before they can be called.  \n",
    "The basic syntax for this is the keyword `def` followed by a `name` you can choose, the function parameters in parentheses followed by `:`, a newline and then the indented function body.  \n",
    "A function can have zero `()`, one `(a)` or multiple `(a, b, ...)` arguments.  \n",
    "An example (with the **indentation of four spaces being part of the syntax**) below:\n",
    "\n",
    "```python\n",
    "def add_one(x):\n",
    "    return x + 1\n",
    "```\n",
    "\n",
    "You can then call your function with the `name()` syntax and optionally assign the result to another variable\n",
    "\n",
    "```python\n",
    "x2 = add_one(x1)\n",
    "```\n",
    "\n",
    "While not required, it is good practice to annotate the expected types of the function.  \n",
    "\n",
    "```python\n",
    "def add_one(x: int) -> int:\n",
    "    return x + 1\n",
    "```\n",
    "\n",
    "Those types are can clearly communicate your intentions, but are **not checked by Python itself**.  \n",
    "We have however included and configured the `mypy` type checker for your, so you will see notifications whenever there is a type error in your code.\n"
   ]
  },
  {
   "cell_type": "markdown",
   "metadata": {},
   "source": [
    "### Exercise: xor\n",
    "\n",
    "`XOR` (exclusive or) is `True` when **only one** of its inputs is `True`, so its closer to how we usually think of what the word `or` means.  \n",
    "For two propositions `p` and `q` the `xor` function can be written as \n",
    "\n",
    "$(p \\land \\neg q) \\lor (\\neg p \\land q)$\n",
    "\n",
    "with $\\land$ meaning `and`, $\\lor$ meaning `or` and $\\neg$ meaning `not`.\n",
    "\n",
    "Write a function `xor(p: bool, q: bool) -> bool:` that takes two boolean values and returns the exclusive or of them."
   ]
  },
  {
   "cell_type": "code",
   "execution_count": null,
   "metadata": {},
   "outputs": [],
   "source": [
    "def xor(p: bool, q: bool) -> bool:\n",
    "    ...\n",
    "\n",
    "\n",
    "assert xor(True, True) == False\n",
    "assert xor(True, False) == True\n",
    "assert xor(False, True) == True\n",
    "assert xor(False, False) == False\n"
   ]
  },
  {
   "cell_type": "code",
   "execution_count": null,
   "metadata": {},
   "outputs": [],
   "source": []
  },
  {
   "cell_type": "code",
   "execution_count": null,
   "metadata": {},
   "outputs": [],
   "source": []
  },
  {
   "cell_type": "code",
   "execution_count": null,
   "metadata": {},
   "outputs": [],
   "source": []
  },
  {
   "cell_type": "markdown",
   "metadata": {},
   "source": [
    "## Detour: blocks and scopes\n",
    "\n",
    "We have seen that indentation is part of the syntax - but *why*?  \n",
    "With indenting (and dedenting afterwards) we denote a **block** of code, which is used to group related functionality.  \n",
    "You will find a different syntax in other languages doing this, e.g. curly braces (`{` and `}`) in C or `begin` and `end` statements in Fortran, but the underlying concept is the same.  \n",
    "\n",
    "Every block introduces a **scope**, which is the area of a program in which you can unambiguously access a name (variable etc).  \n",
    "Take the following snippet as an example.  \n",
    "\n",
    "```python\n",
    "\n",
    "def fn1() -> bool:\n",
    "    a = True\n",
    "    return a\n",
    "\n",
    "a = False\n",
    "fn1()\n",
    "```\n",
    "\n",
    "`fn1` always returns a variable `a`, which is always `True`, but the the variable `a` outside the function is set to `False`.  \n",
    "Would you expect that this changes the function?  \n",
    "That would indeed make programming very hard.  \n",
    "Therefore the `a` *inside* the function and the `a` *outside* the function are separated.\n",
    "\n",
    "For the sake of convenience, Python *does* allow an *inner* scope to access information from *outside*, but not the other way around.  \n",
    "This means that it is perfectly ok to do this\n",
    "\n",
    "```python\n",
    "a = 1\n",
    "\n",
    "def fn():\n",
    "    return a\n",
    "\n",
    "print(fn(), a)  # 1 1\n",
    "```\n",
    "\n",
    "but this won't work, as the outer block cannot access the inner `a`.  \n",
    "\n",
    "```python\n",
    "def fn():\n",
    "    a = 1\n",
    "    return a\n",
    "\n",
    "print(fn(), a)  # NameError: name 'a' is not defined\n",
    "```\n",
    "\n",
    "**However, to avoid confusion it's always best to explicitly pass all outside variables as parameters to the function.**"
   ]
  },
  {
   "cell_type": "code",
   "execution_count": null,
   "metadata": {},
   "outputs": [],
   "source": []
  },
  {
   "cell_type": "code",
   "execution_count": null,
   "metadata": {},
   "outputs": [],
   "source": []
  },
  {
   "cell_type": "code",
   "execution_count": null,
   "metadata": {},
   "outputs": [],
   "source": []
  },
  {
   "cell_type": "markdown",
   "metadata": {},
   "source": [
    "## Detour: conditional control flow\n",
    "\n",
    "The real use case of boolean values becomes apparent when one uses them to control how the program executes.  \n",
    "This can be done with the `if` / `elif` / `else` statements, `elif` being short for `else if`.  \n",
    "Note that the `if` statement can stand completely alone, be optionally followed by an arbitrary amount of `elif` statements and lastly finished with an optional `else` statement.  \n",
    "So in the example below, both the `elif` and `else` block could have been omitted.  \n",
    "Just like with functions, **indentation of four spaces is part of the syntax**.  \n",
    "\n",
    "```python\n",
    "x = False\n",
    "y = True\n",
    "\n",
    "if x:\n",
    "    action1()\n",
    "elif y: \n",
    "    action2()\n",
    "else:\n",
    "    action3()\n",
    "```\n",
    "\n"
   ]
  },
  {
   "cell_type": "markdown",
   "metadata": {},
   "source": [
    "### Exercise: xor with branching\n",
    "\n",
    "Rewrite your `xor` function from above with `if` and `else` statements instead of the `and` or `or` operators."
   ]
  },
  {
   "cell_type": "code",
   "execution_count": null,
   "metadata": {},
   "outputs": [],
   "source": [
    "def xor_if_else(p: bool, q: bool) -> bool:\n",
    "    ...\n",
    "\n",
    "\n",
    "assert xor_if_else(True, True) == False\n",
    "assert xor_if_else(True, False) == True\n",
    "assert xor_if_else(False, True) == True\n",
    "assert xor_if_else(False, False) == False\n"
   ]
  },
  {
   "cell_type": "code",
   "execution_count": null,
   "metadata": {},
   "outputs": [],
   "source": []
  },
  {
   "cell_type": "code",
   "execution_count": null,
   "metadata": {},
   "outputs": [],
   "source": []
  },
  {
   "cell_type": "code",
   "execution_count": null,
   "metadata": {},
   "outputs": [],
   "source": []
  },
  {
   "cell_type": "markdown",
   "metadata": {},
   "source": [
    "## Numbers\n",
    "\n",
    "There are two basic number types in Python: `int` and `float`.  \n",
    "`int` numbers don't have decimal digits, while `float` values do.  \n",
    "The usual arithmetic operations are defined, however they come with some sharp edges one should be aware of.  \n",
    "We will come back to them later on.\n",
    "\n",
    "| Operation            | Operator | \n",
    "| ---                  | ---      |\n",
    "| Addition             | `+`      |\n",
    "| Subtraction          | `-`      |\n",
    "| Multiplication       | `*`      |\n",
    "| Exponentiation       | `**`     |\n",
    "| Float Division       | `/`      |\n",
    "| Int (Floor) Division | `//`     |\n",
    "| Modulus              | `%`      |\n",
    "\n",
    "Just like with booleans we can compare if two numbers are exactly equal\n",
    "\n",
    "| Operator | Meaning       | \n",
    "| ---      | --- |\n",
    "| `==`     | Exactly equal |\n",
    "| `!=`     | Not equal |\n",
    "\n",
    "But we can also check whether one is larger or smaller than the other\n",
    "\n",
    "| Operator | Meaning       | \n",
    "| ---      | --- |\n",
    "| `>`      | Larger |\n",
    "| `>=`     | Larger or equal |\n",
    "| `<`      | Smaller |\n",
    "| `<=`     | Smaller or equal |\n"
   ]
  },
  {
   "cell_type": "markdown",
   "metadata": {},
   "source": [
    "### Exercise: multiple of two numbers\n",
    "\n",
    "Create a function that checks if a number is a multiple of two other numbers `a` and `b`, with the signature `is_multiple_of_both(number: int, a: int, b: int) -> bool`"
   ]
  },
  {
   "cell_type": "code",
   "execution_count": null,
   "metadata": {},
   "outputs": [],
   "source": [
    "def is_multiple_of_both(number: int, a: int, b: int) -> bool:\n",
    "    ...\n",
    "\n",
    "\n",
    "assert is_multiple_of_both(2, 2, 1)\n",
    "assert is_multiple_of_both(6, 3, 2)\n",
    "assert not is_multiple_of_both(7, 3, 2)\n"
   ]
  },
  {
   "cell_type": "markdown",
   "metadata": {},
   "source": [
    "### Exercise: convert 24 hour clock to 12 hour clock face\n",
    "\n",
    "Write a function `clock_face(hour: int) -> int` that transform a `[0, 24)` hour input to the `[1, 12]` hour range of a clock face.\n",
    "\n",
    "Hint: use the modulo operator `%`  \n",
    "Hint: `0` and `12` are special cases - why?"
   ]
  },
  {
   "cell_type": "code",
   "execution_count": null,
   "metadata": {},
   "outputs": [],
   "source": [
    "def clock_face(hour: int) -> int:\n",
    "    ...\n",
    "\n",
    "\n",
    "assert clock_face(0) == clock_face(12) == 12\n",
    "assert clock_face(1) == clock_face(13) == 1\n",
    "assert clock_face(2) == clock_face(14) == 2\n",
    "assert clock_face(3) == clock_face(15) == 3\n",
    "assert clock_face(4) == clock_face(16) == 4\n",
    "assert clock_face(5) == clock_face(17) == 5\n",
    "assert clock_face(6) == clock_face(18) == 6\n",
    "assert clock_face(7) == clock_face(19) == 7\n",
    "assert clock_face(8) == clock_face(20) == 8\n",
    "assert clock_face(9) == clock_face(21) == 9\n",
    "assert clock_face(10) == clock_face(22) == 10\n",
    "assert clock_face(11) == clock_face(23) == 11\n"
   ]
  },
  {
   "cell_type": "code",
   "execution_count": null,
   "metadata": {},
   "outputs": [],
   "source": []
  },
  {
   "cell_type": "code",
   "execution_count": null,
   "metadata": {},
   "outputs": [],
   "source": []
  },
  {
   "cell_type": "code",
   "execution_count": null,
   "metadata": {},
   "outputs": [],
   "source": []
  },
  {
   "cell_type": "markdown",
   "metadata": {},
   "source": [
    "## Sharp edge: floating point numbers\n",
    "\n",
    "First, dividing two integers with `/` will do a float division, so it will always result in a float, e.g. `2 / 1 == 2.0`  \n",
    "Depending on your background that might be unexpected or completely natural.  \n",
    "If you do require integer division, use the `//` operator\n",
    "\n",
    "```python\n",
    "print(3 / 2)              # 1.5  (float)\n",
    "print(3 // 2)             # 1    (int)\n",
    "```\n",
    "\n",
    "Second, don't expect float calculations to be exact.  \n",
    "Even standard mathematical properties like commutativity might not necesarrily hold due to the binary representation.  \n",
    "We won't go through the exact reasons here, for now just remember to be cautios regarding the exact result when using floats.  \n",
    "\n",
    "```python\n",
    "print((0.1 + 0.2) + 0.3)  # 0.6000000000000001\n",
    "print(0.1 + (0.2 + 0.3))  # 0.6\n",
    "```\n",
    "\n",
    "You can of course *round* the values down to your desired accuracy, but do note that you are always loosing information that way.  \n",
    "\n",
    "```python\n",
    "print(round((0.1 + 0.2) + 0.3, ndigits=15))  # 0.6\n",
    "print(round(0.1 + (0.2 + 0.3), ndigits=15))  # 0.6\n",
    "```\n",
    "\n",
    "In most numerical calculations floats are your tool of choice, however if exact calculations are necessary (say, you work in a bank) prefer using integers.  \n",
    "\n",
    "```python\n",
    "print((1 + 2) + 3)        # 6\n",
    "print(1 + (2 + 3))        # 6\n",
    "```\n",
    "\n"
   ]
  },
  {
   "cell_type": "code",
   "execution_count": null,
   "metadata": {},
   "outputs": [],
   "source": []
  },
  {
   "cell_type": "code",
   "execution_count": null,
   "metadata": {},
   "outputs": [],
   "source": []
  },
  {
   "cell_type": "code",
   "execution_count": null,
   "metadata": {},
   "outputs": [],
   "source": []
  },
  {
   "cell_type": "markdown",
   "metadata": {},
   "source": [
    "## Detour: augmented assignment\n",
    "\n",
    "Often times, you will find yourself overwriting an existing variable with a new value, for example if you are incrementing numbers.\n",
    "\n",
    "```python\n",
    "a = 1\n",
    "a = a + 1\n",
    "```\n",
    "\n",
    "There is a shorted way of writing this code using *augmented assignment* (scary name, but simple concept).  \n",
    "The only thing you have to do is to write the operator (here `+`) in front of an equals sign\n",
    "\n",
    "```python\n",
    "a = 1\n",
    "a += 1\n",
    "```\n",
    "\n",
    "Just like with `+`, you can also do that with with the other numeric operators `-=`, `*=`, `/=`, `//=`, `**=`, `%=`.\n",
    "\n",
    "For sake of completeness, here are the remaining augmented assignment operators: `@=, <<=, >>=, &=, ^=, |=`"
   ]
  },
  {
   "cell_type": "code",
   "execution_count": null,
   "metadata": {},
   "outputs": [],
   "source": []
  },
  {
   "cell_type": "code",
   "execution_count": null,
   "metadata": {},
   "outputs": [],
   "source": []
  },
  {
   "cell_type": "code",
   "execution_count": null,
   "metadata": {},
   "outputs": [],
   "source": []
  },
  {
   "cell_type": "markdown",
   "metadata": {},
   "source": [
    "## Sharp edge: augmented assignment and scoping rules\n",
    "\n",
    "Since Python does not have a syntactical difference between *declaring* a variable and *assigning* to a variable, there is a sharp edge you should be aware of.  \n",
    "Variables assigned to in a function *do not* affect the variable in an outer scope, so the `a` inside the function and the `a` outside the functions in the following have different values\n",
    "\n",
    "```python\n",
    "a = 1\n",
    "def fn():\n",
    "    a = 2\n",
    "    return a\n",
    "print(fn(), a)  # 2 1\n",
    "```\n",
    "\n",
    "Because of this and this, doing an augmented assignment in the following code leads to an `UnboundLocalError` because in the *local* scope of `fn` the name `a` is not yet declared!\n",
    "\n",
    "```python\n",
    "a = 1\n",
    "def fn():\n",
    "    a += 2      # UnboundLocalError\n",
    "    return a\n",
    "```\n",
    "\n",
    "For reasons of convenience, blocks introduced by `if` (and loops) *do* allow direct access to the variables\n",
    "\n",
    "```python\n",
    "a = 1\n",
    "if True:\n",
    "    print(a)   # 1\n",
    "print(a)       # 1\n",
    "\n",
    "a = 1\n",
    "if True:\n",
    "    a = 2\n",
    "    print(a)   # 2\n",
    "print(a)       # 2\n",
    "\n",
    "a = 1\n",
    "if True:\n",
    "    a += 2\n",
    "    print(a)   # 3\n",
    "print(a)       # 3\n",
    "```\n",
    "\n",
    "and you can even use a variable declared inside an if-block outside!\n",
    "\n",
    "```python\n",
    "if True:\n",
    "    a = 1\n",
    "print(a)       # 1\n",
    "```"
   ]
  },
  {
   "cell_type": "code",
   "execution_count": null,
   "metadata": {},
   "outputs": [],
   "source": []
  },
  {
   "cell_type": "code",
   "execution_count": null,
   "metadata": {},
   "outputs": [],
   "source": []
  },
  {
   "cell_type": "code",
   "execution_count": null,
   "metadata": {},
   "outputs": [],
   "source": []
  },
  {
   "cell_type": "markdown",
   "metadata": {},
   "source": [
    "## Detour: recursion\n",
    "\n",
    "Functions can call themselves - a process known as recursion.  \n",
    "This is particularly useful to express certain mathematical constructs.\n",
    "For example the factorial function `n!` is defined as  \n",
    "\n",
    "$n! = 1 \\cdot 2 \\cdot 3 \\dots (n-2) \\cdot (n-1) \\cdot n$  \n",
    "\n",
    "or more concisely in product notation as  \n",
    "\n",
    "$n! = \\prod_{i=1}^{n}i$  \n",
    "\n",
    "We can implement this function using recursion.  \n",
    "There are the two special cases `n=0` and `n=1`, which both return 1.  \n",
    "After that, all other the factorial of all other positive integers can be generated by calling `n * factorial(n - 1)`.  \n",
    "\n",
    "```python\n",
    "def factorial(n: int) -> int:\n",
    "    if n <= 1:\n",
    "        return 1\n",
    "    return n * factorial(n - 1)\n",
    "```\n",
    "\n",
    "and check its results\n",
    "\n",
    "```python\n",
    "assert factorial(0) == 1  # per definition\n",
    "assert factorial(1) == 1\n",
    "assert factorial(2) == 2\n",
    "assert factorial(3) == 6\n",
    "assert factorial(4) == 24\n",
    "assert factorial(5) == 120\n",
    "```\n"
   ]
  },
  {
   "cell_type": "markdown",
   "metadata": {},
   "source": [
    "### Exercise: Fibonacci sequence\n",
    "\n",
    "The [Fibonacci sequence](https://en.wikipedia.org/wiki/Fibonacci_number) can be described by the recursive relation\n",
    "\n",
    "$$\\begin{align}\n",
    "    F_0 &= 0 \\\\\n",
    "    F_1 &= 1 \\\\\n",
    "    F_n &= F_{n-1} - F_{n-2} \\\\\n",
    "\\end{align}$$\n",
    "\n",
    "which gives the fibonacci numbers 0, 1, 1, 2, 3, 5, 8, 13, 21, 34, ...\n",
    "\n",
    "Implement a function `fibonacci(n: int) -> int` generating the `n-th` fibonacci number.\n"
   ]
  },
  {
   "cell_type": "code",
   "execution_count": null,
   "metadata": {},
   "outputs": [],
   "source": [
    "def fibonacci(n: int) -> int:\n",
    "    ...\n",
    "\n",
    "\n",
    "assert fibonacci(0) == 0\n",
    "assert fibonacci(1) == 1\n",
    "assert fibonacci(2) == 1  # 0 + 1\n",
    "assert fibonacci(3) == 2  # 1 + 1\n",
    "assert fibonacci(4) == 3  # 1 + 2\n",
    "assert fibonacci(5) == 5  # 2 + 3\n",
    "assert fibonacci(6) == 8  # 3 + 5\n"
   ]
  },
  {
   "cell_type": "code",
   "execution_count": null,
   "metadata": {},
   "outputs": [],
   "source": []
  },
  {
   "cell_type": "code",
   "execution_count": null,
   "metadata": {},
   "outputs": [],
   "source": []
  },
  {
   "cell_type": "code",
   "execution_count": null,
   "metadata": {},
   "outputs": [],
   "source": []
  },
  {
   "cell_type": "markdown",
   "metadata": {},
   "source": [
    "## None\n",
    "\n",
    "The `None` type is used to signify missing values or failure of computation.  \n",
    "To test whether a value is `None`, you use the `is` operator, which can be negated using the `not` operator.  \n"
   ]
  },
  {
   "cell_type": "code",
   "execution_count": null,
   "metadata": {},
   "outputs": [],
   "source": [
    "print(None is None)\n",
    "print(None is not None)\n"
   ]
  },
  {
   "cell_type": "markdown",
   "metadata": {},
   "source": [
    "### Exercise: safe division\n",
    "\n",
    "When you divide a number by `0` the program will crash and throw a `ZeroDivisionError`.  \n",
    "Define a function `safe_divide(x: float, y: float) -> float | None` that instead returns `None` if division by 0 is attempted.  \n",
    "The `float | None` syntax means that the function will return either `float` or `None`"
   ]
  },
  {
   "cell_type": "code",
   "execution_count": null,
   "metadata": {},
   "outputs": [],
   "source": [
    "def safe_divide(x: float, y: float) -> float | None:\n",
    "    ...\n",
    "\n",
    "\n",
    "assert safe_divide(1, 0) is None\n",
    "assert safe_divide(1, 1) is not None\n",
    "assert safe_divide(0, 1) is not None\n"
   ]
  },
  {
   "cell_type": "code",
   "execution_count": null,
   "metadata": {},
   "outputs": [],
   "source": []
  },
  {
   "cell_type": "code",
   "execution_count": null,
   "metadata": {},
   "outputs": [],
   "source": []
  },
  {
   "cell_type": "code",
   "execution_count": null,
   "metadata": {},
   "outputs": [],
   "source": []
  },
  {
   "cell_type": "markdown",
   "metadata": {},
   "source": [
    "# Containers: overview\n",
    "\n",
    "Single data points are fine, but a simple calculator would be enough to work with them.  \n",
    "Most of the time we are working with loads of data, so we need ways to pack it together in an easy fashion.  \n",
    "Since different arragements make certain transformations easier, there is a variety of containers for data.  \n",
    "Before we talk about which operations are good on which container, let's first talk about some similarities between them.  \n",
    "The containers we will be handling\n",
    "\n",
    "- tuple\n",
    "- list\n",
    "- dictionary\n",
    "- set\n"
   ]
  },
  {
   "cell_type": "markdown",
   "metadata": {},
   "source": [
    "## Literal Syntax\n",
    "\n",
    "You can create all of these four containers using their respective *literal syntax*.  \n",
    "\n",
    "**Strings** are created using either single or double quotation marks.  \n",
    "\n",
    "```python\n",
    "my_string = \"Hello, World\"\n",
    "my_string = 'Hello, World'\n",
    "```\n",
    "\n",
    "The two different versions are equivalent, but allow you to use the other version to indicate a quotation inside your string.\n",
    "\n",
    "```python\n",
    "my_string = \"Hello, 'World'\"\n",
    "```\n",
    "\n",
    "**Tuples** are created using parentheses.  \n",
    "You may have noticed that tuples look exactly like the arguments in a function definition or a function call - that is on purpose!  \n",
    "When we will come to functions that *return* multiple values, you will revisit the tuple again - it is a very common container.\n",
    "\n",
    "```python\n",
    "my_tuple = (1, 2, 3)\n",
    "```\n",
    "\n",
    "**Lists** are created using brackets.\n",
    "\n",
    "```python\n",
    "my_list = [1, 2, 3]\n",
    "```\n",
    "\n",
    "**Sets** and **dictionaries** are both created using braces.  \n",
    "Notice that the dictionary uses a colon (`:`) after the *key*, to map it to the *value*.\n",
    "\n",
    "```python\n",
    "my_set = {1, 2, 3}\n",
    "my_dict = {\"a\": 1, \"b\": 2, \"c\": 3}\n",
    "```\n"
   ]
  },
  {
   "cell_type": "markdown",
   "metadata": {},
   "source": [
    "### Exercise: play around with the literal syntax\n",
    "\n",
    "- What happens when you forget to closing delimiter, so e.g. you forgot a `]` at the end of a list literal?\n",
    "- What happens when you forget the open delimiter?\n",
    "- Can you *nest* containers? So what happens when you want to create a list inside a list?\n",
    "- Can you nest *different* containers? What happens when you create a list of tuples?"
   ]
  },
  {
   "cell_type": "code",
   "execution_count": null,
   "metadata": {},
   "outputs": [],
   "source": []
  },
  {
   "cell_type": "code",
   "execution_count": null,
   "metadata": {},
   "outputs": [],
   "source": []
  },
  {
   "cell_type": "code",
   "execution_count": null,
   "metadata": {},
   "outputs": [],
   "source": []
  },
  {
   "cell_type": "code",
   "execution_count": null,
   "metadata": {},
   "outputs": [],
   "source": []
  },
  {
   "cell_type": "markdown",
   "metadata": {},
   "source": [
    "## Common operations: len\n",
    "\n",
    "All thes containers shown so far are *sized*, so you can get the number of elements in them (the containers *length*) using the `len` function."
   ]
  },
  {
   "cell_type": "code",
   "execution_count": null,
   "metadata": {},
   "outputs": [],
   "source": [
    "my_string = \"abc\"\n",
    "my_tuple = (1, 2, 3)\n",
    "my_list = [1, 2, 3]\n",
    "my_set = {1, 2, 3}\n",
    "my_dict = {\"a\": 1, \"b\": 2, \"c\": 3}\n",
    "\n",
    "print(len(my_string))\n",
    "print(len(my_tuple))\n",
    "print(len(my_list))\n",
    "print(len(my_set))\n",
    "print(len(my_dict))\n"
   ]
  },
  {
   "cell_type": "markdown",
   "metadata": {},
   "source": [
    "### Exercise: equal length\n",
    "\n",
    "Write a function `length_is_equal(l1: list[Any], l2: list[Any]) -> bool` that checks whether the lengths of two lists match.  \n"
   ]
  },
  {
   "cell_type": "code",
   "execution_count": null,
   "metadata": {},
   "outputs": [],
   "source": [
    "def length_is_equal(l1: list[Any], l2: list[Any]) -> bool:\n",
    "    ...\n",
    "\n",
    "\n",
    "assert length_is_equal([1, 2, 3], [1, 2, 3])\n",
    "assert not length_is_equal([1, 2], [1, 2, 3])\n",
    "assert not length_is_equal([1, 2, 3], [1, 2])\n"
   ]
  },
  {
   "cell_type": "code",
   "execution_count": null,
   "metadata": {},
   "outputs": [],
   "source": []
  },
  {
   "cell_type": "code",
   "execution_count": null,
   "metadata": {},
   "outputs": [],
   "source": []
  },
  {
   "cell_type": "code",
   "execution_count": null,
   "metadata": {},
   "outputs": [],
   "source": []
  },
  {
   "cell_type": "markdown",
   "metadata": {},
   "source": [
    "## Common operations: in\n",
    "\n",
    "For all the shown container you can check whether and element is in it using the `in` operator.  \n",
    "\n",
    "```python\n",
    "print(\"W\" in \"Hello, World\")\n",
    "print(2 in (1, 2, 3))\n",
    "print(2 in [1, 2, 3])\n",
    "print(2 in {1, 2, 3})\n",
    "print(\"b\" in {\"a\": 1, \"b\": 2, \"c\": 3})\n",
    "```\n",
    "\n",
    "Even though Python usually isn't used for performance-critical code, a quick side note of the performance of this operation.  \n",
    "For tuples, lists and strings this operation has a complexity of $\\mathcal{O}(n)$, so in the worst-case you have to visit every single element in the container.  \n",
    "On contrast to that, sets and dictionaries have $\\mathcal{O}(1)$ complexity for this operation, which means that the size of the container does not matter for performance.  \n",
    "For that reason, whenever you need to search for many elements in a container that is large, go for sets or dictionaries.  \n",
    "For small problems it doesn't really matter though.  \n",
    "\n",
    "We won't go into the details of *why* that is the case. If you are interested, search what a *hash function* is and then how *hash maps* or *hash sets* are implemented.   \n"
   ]
  },
  {
   "cell_type": "markdown",
   "metadata": {},
   "source": [
    "### Exercise: print if in\n",
    "\n",
    "Write a function `print_if_in(element: int, container: set[int]) -> None` that prints  \n",
    "`Element is in the container` if the given element is in the given container or  \n",
    "`Element is not in the container` else."
   ]
  },
  {
   "cell_type": "code",
   "execution_count": null,
   "metadata": {},
   "outputs": [],
   "source": [
    "def print_if_in(element: int, container: set[int]) -> None:\n",
    "    ...\n",
    "\n",
    "\n",
    "assert (\n",
    "    capture_stdout(lambda: print_if_in(1, {1, 2, 3})) == \"Element is in the container\"\n",
    ")\n",
    "assert (\n",
    "    capture_stdout(lambda: print_if_in(4, {1, 2, 3}))\n",
    "    == \"Element is not in the container\"\n",
    ")\n"
   ]
  },
  {
   "cell_type": "code",
   "execution_count": null,
   "metadata": {},
   "outputs": [],
   "source": []
  },
  {
   "cell_type": "code",
   "execution_count": null,
   "metadata": {},
   "outputs": [],
   "source": []
  },
  {
   "cell_type": "code",
   "execution_count": null,
   "metadata": {},
   "outputs": [],
   "source": []
  },
  {
   "cell_type": "markdown",
   "metadata": {},
   "source": [
    "## Common operations: sum, min, & max\n",
    "\n",
    "If the items in the containers are numeric, you can calculate the sum, minimal value and maximal value with `sum`, `min` and `max` respectively."
   ]
  },
  {
   "cell_type": "code",
   "execution_count": null,
   "metadata": {},
   "outputs": [],
   "source": [
    "print(sum(my_tuple), min(my_tuple), max(my_tuple))\n",
    "print(sum(my_list), min(my_list), max(my_list))\n",
    "print(sum(my_set), min(my_set), max(my_set))\n"
   ]
  },
  {
   "cell_type": "markdown",
   "metadata": {},
   "source": [
    "### Exercise: equal sum\n",
    "\n",
    "Write a function `sum_is_equal(l1: list[int], l2: list[int]) -> bool` that checks whether the sum of all the elements of two lists match."
   ]
  },
  {
   "cell_type": "code",
   "execution_count": null,
   "metadata": {},
   "outputs": [],
   "source": [
    "def sum_is_equal(t1: list[int], t2: list[int]) -> bool:\n",
    "    ...\n",
    "\n",
    "\n",
    "assert sum_is_equal([1, 2, 3], [1, 2, 3])\n",
    "assert sum_is_equal([1, 2, 3], [1, 5])\n",
    "assert not sum_is_equal([1, 2, 3], [1, 2, 4])\n"
   ]
  },
  {
   "cell_type": "markdown",
   "metadata": {},
   "source": [
    "### Exercise min equals max\n",
    "\n",
    "Write a function `min_equals_max(t1: list[int], t2: list[int]) -> bool` that checks whether the minimal element of one list in the maximal element of another list.  \n",
    "\n",
    "Hint: what do the tests below tell you about whether the *order* of the lists matter?"
   ]
  },
  {
   "cell_type": "code",
   "execution_count": null,
   "metadata": {},
   "outputs": [],
   "source": [
    "def min_equals_max(t1: list[int], t2: list[int]) -> bool:\n",
    "    ...\n",
    "\n",
    "\n",
    "assert min_equals_max([1, 2], [0, 1])\n",
    "assert min_equals_max([0, 1], [1, 2])\n",
    "assert not min_equals_max([5, 4], [3, 2, 1])\n"
   ]
  },
  {
   "cell_type": "code",
   "execution_count": null,
   "metadata": {},
   "outputs": [],
   "source": []
  },
  {
   "cell_type": "code",
   "execution_count": null,
   "metadata": {},
   "outputs": [],
   "source": []
  },
  {
   "cell_type": "code",
   "execution_count": null,
   "metadata": {},
   "outputs": [],
   "source": []
  },
  {
   "cell_type": "markdown",
   "metadata": {},
   "source": [
    "## Indexing\n",
    "\n",
    "You can access elements of all shown containers except sets (for which this operation doesn't make sense, they are *not sorted*) using the bracket syntax `[index]`.  \n",
    "Elements from tuples and lists are accesible by their *position*.  \n",
    "The first element has index 0, which can be confusing in the beginning.  \n",
    "One explanation for this is that the index shows you the **distance from the start** of the container.  \n",
    "So imagine the variable you assigned the container to *points* to a position in computer memory and since a container in memory is nothing more than its contents, the position at the same time is the first element.\n",
    "If you want to access the list from the *last* element, you can do this with a negative index, e.g. `-1`.\n",
    "\n",
    "If you have a list containing the elements `0, 2, 4, 6, 8`, the image below shows you the respective indices.\n",
    "\n",
    "![](assets/indexing.png)\n",
    "\n",
    "\n",
    "```python\n",
    "print(my_string[0])     # H\n",
    "print(my_tuple[0])      # 1\n",
    "print(my_list[0])       # 1\n",
    "```\n",
    "\n",
    "Dictionaries on the other hand map *keys* to *values*, so you access them using the respective *keys*.\n",
    "\n",
    "```python\n",
    "print(my_dict[\"a\"])     # 1\n",
    "```"
   ]
  },
  {
   "cell_type": "markdown",
   "metadata": {},
   "source": [
    "### Exercise: indexing 1\n",
    "\n",
    "Play around with accessing elements the containers below until you can comfortably predict which value you will get when you access the container.  \n",
    "\n",
    "- what happens when you try to access using an index that is larger than the length of the container?\n",
    "- what happens when you try to access the dictionary with a key that isn't in it?"
   ]
  },
  {
   "cell_type": "code",
   "execution_count": null,
   "metadata": {},
   "outputs": [],
   "source": [
    "my_string = \"Hello, World\"\n",
    "my_tuple = (1, 2, 3)\n",
    "my_list = [1, 2, 3]\n",
    "my_dict = {\"a\": 1, \"b\": 2, \"c\": 3}\n"
   ]
  },
  {
   "cell_type": "markdown",
   "metadata": {},
   "source": [
    "### Exercise: indexing 2\n",
    "\n",
    "Write a function `first_and_last(container: list[int]) -> tuple[int, int]` that returns the first and last element of a list.  \n",
    "You may assume that the list has at least two entries.  "
   ]
  },
  {
   "cell_type": "code",
   "execution_count": null,
   "metadata": {},
   "outputs": [],
   "source": [
    "def first_and_last(container: list[int]) -> tuple[int, int]:\n",
    "    ...\n",
    "\n",
    "\n",
    "assert first_and_last([1, 2]) == (1, 2)\n",
    "assert first_and_last([1, 2, 3]) == (1, 3)\n",
    "assert first_and_last([1, 2, 3, 4]) == (1, 4)\n"
   ]
  },
  {
   "cell_type": "code",
   "execution_count": null,
   "metadata": {},
   "outputs": [],
   "source": []
  },
  {
   "cell_type": "code",
   "execution_count": null,
   "metadata": {},
   "outputs": [],
   "source": []
  },
  {
   "cell_type": "code",
   "execution_count": null,
   "metadata": {},
   "outputs": [],
   "source": []
  },
  {
   "cell_type": "markdown",
   "metadata": {},
   "source": [
    "## Slicing\n",
    "\n",
    "If we are interested in more than one value, we can take a **slice** out of strings, tuples and lists.  \n",
    "The syntax here is `[start:stop:step_size]`.  \n",
    "In all cases *start* is included,  while *stop* is excluded, or `[start, stop)` in mathematical notation.  \n",
    "\n",
    "```python\n",
    "print(\"Hello, World\"[0:2:1])  # prints He\n",
    "print((1, 2, 3)[0:2:1])   # prints (1, 2)\n",
    "print([1, 2, 3][0:2:1])    # prints [1, 2]\n",
    "```\n",
    "\n",
    "Whenever one of those arguments is its default value, it can be left out.  \n",
    "The default values are:\n",
    "\n",
    "- **start**: `0`\n",
    "- **stop**: `len(container)` \n",
    "- **step**:`1`  \n",
    "\n",
    "So all of the following are valid slices\n",
    "\n",
    "```python\n",
    "container[:]             # all values\n",
    "container[::]            # all values\n",
    "container[::2]           # every second value\n",
    "container[1::2]          # every second value starting from one\n",
    "container[1:6:2]         # values 1, 3, 6\n",
    "```\n",
    "\n",
    "You can also use *negative indices* if you want to count from the back of the container\n",
    "\n",
    "```python\n",
    "container[1:-1]          # from second to second last index\n",
    "```\n",
    "\n",
    "And a *negative step size* if you want to reverse the container\n",
    "\n",
    "```python\n",
    "container[::-1]          # reversed\n",
    "```\n"
   ]
  },
  {
   "cell_type": "markdown",
   "metadata": {},
   "source": [
    "### Exercise: slicing\n",
    "\n",
    "Take the string `\"Hello, World\"` and then \n",
    "- print first just the `Hello` and then just the `World` part.\n",
    "- print every second character\n",
    "- reverse the string\n",
    " "
   ]
  },
  {
   "cell_type": "code",
   "execution_count": null,
   "metadata": {},
   "outputs": [],
   "source": [
    "my_string = \"Hello, World\"\n",
    "\n",
    "print(my_string[:5])\n",
    "print(my_string[7:])\n",
    "print(my_string[::2])\n",
    "print(my_string[::-1])\n"
   ]
  },
  {
   "cell_type": "code",
   "execution_count": null,
   "metadata": {},
   "outputs": [],
   "source": []
  },
  {
   "cell_type": "code",
   "execution_count": null,
   "metadata": {},
   "outputs": [],
   "source": []
  },
  {
   "cell_type": "code",
   "execution_count": null,
   "metadata": {},
   "outputs": [],
   "source": []
  },
  {
   "cell_type": "markdown",
   "metadata": {},
   "source": [
    "## Interconversion\n",
    "\n",
    "You can easily interconvert the containers using their respective functions.  \n",
    "The outliers here are dictionaries, which require *pairs* of data, and strings, which require the `join` function.  "
   ]
  },
  {
   "cell_type": "code",
   "execution_count": null,
   "metadata": {},
   "outputs": [],
   "source": [
    "print(tuple(my_string))\n",
    "print(list(my_string))\n",
    "print(set(my_string))\n",
    "\n",
    "# Dictionaries require *pairs* of data.\n",
    "print(dict([(\"a\", 1), (\"b\", 2), (\"c\", 3)]))\n",
    "# Tip: if your data isn't in pair form yet, you can use the zip function to do that\n",
    "print(dict(zip([\"a\", \"b\", \"c\"], [1, 2, 3])))\n",
    "\n",
    "# Strings can only be build from containers of strings\n",
    "print(\"\".join([\"H\", \"e\", \"l\", \"l\", \"o\", \",\", \" \", \"W\", \"o\", \"r\", \"l\", \"d\"]))\n",
    "print(\", \".join([\"Hello\", \"World\"]))\n"
   ]
  },
  {
   "cell_type": "markdown",
   "metadata": {},
   "source": [
    "### Exercise: Getting digits of a number\n",
    "\n",
    "Write a function `digits_of_number(num: int) -> list[str]` that takes an integer input and returns a list of strings with the digits of that number.\n"
   ]
  },
  {
   "cell_type": "code",
   "execution_count": null,
   "metadata": {},
   "outputs": [],
   "source": [
    "def digits_of_number(num: int) -> list[str]:\n",
    "    ...\n",
    "\n",
    "\n",
    "assert digits_of_number(1) == [\"1\"]\n",
    "assert digits_of_number(12) == [\"1\", \"2\", ]\n",
    "assert digits_of_number(123) == [\"1\", \"2\", \"3\"]\n",
    "assert digits_of_number(1234) == [\"1\", \"2\", \"3\", \"4\"]\n"
   ]
  },
  {
   "cell_type": "code",
   "execution_count": null,
   "metadata": {},
   "outputs": [],
   "source": []
  },
  {
   "cell_type": "code",
   "execution_count": null,
   "metadata": {},
   "outputs": [],
   "source": []
  },
  {
   "cell_type": "code",
   "execution_count": null,
   "metadata": {},
   "outputs": [],
   "source": []
  },
  {
   "cell_type": "markdown",
   "metadata": {},
   "source": [
    "## Changing a value inside containers\n",
    "\n",
    "You can change a specific value inside a `dict` and `list` using the normal assignment syntax but with the indexed value as the target, e.g.  \n",
    "\n",
    "```python\n",
    "l = [1, 2, 3]  # [1, 2, 3]\n",
    "l[1] = 4       # [1, 4, 3]\n",
    "```\n",
    "\n",
    "However, you cannot change elements inside of a `tuple` or `string`, thus those containers are *immutable*.  \n",
    "One reason behind that is that both these containers are frequent keys of a `dict`.  \n",
    "Take a look at the following snippet: \n",
    "\n",
    "```python\n",
    "key = \"my_key\"\n",
    "my_dict = {key: 1}\n",
    "my_dict[key]         # 1\n",
    "```\n",
    "\n",
    "If it were allowed to alter the contents of the variable `key` here, changing it would lead to a `KeyError` when you are trying to access the dict again.  \n",
    "\n",
    "```python\n",
    "key[1] = \"z\"\n",
    "my_dict[key]         # KeyError\n",
    "```\n",
    "Since that behaviour would be rather confusing, Python strings in general are immutable.\n",
    "\n"
   ]
  },
  {
   "cell_type": "markdown",
   "metadata": {},
   "source": [
    "### Exercise: swap first value\n",
    "\n",
    "Write a function `swap_first_value(l1: list[int], l2: list[int]) -> tuple[list[int], list[int]]` that swaps the first value of two lists and then returns both lists.\n"
   ]
  },
  {
   "cell_type": "code",
   "execution_count": null,
   "metadata": {},
   "outputs": [],
   "source": [
    "def swap_first_value(l1: list[int], l2: list[int]) -> tuple[list[int], list[int]]:\n",
    "    ...\n",
    "\n",
    "\n",
    "assert swap_first_value([1, 2, 3], [4, 5, 6]) == ([4, 2, 3], [1, 5, 6])\n"
   ]
  },
  {
   "cell_type": "code",
   "execution_count": null,
   "metadata": {},
   "outputs": [],
   "source": []
  },
  {
   "cell_type": "code",
   "execution_count": null,
   "metadata": {},
   "outputs": [],
   "source": []
  },
  {
   "cell_type": "code",
   "execution_count": null,
   "metadata": {},
   "outputs": [],
   "source": []
  },
  {
   "cell_type": "markdown",
   "metadata": {},
   "source": [
    "### Sharp edge: mutating immutable containers\n",
    "\n",
    "While you cannot *directly* mutate a tuple, you *can* mutate elements inside other containers inside a tuple.  \n",
    "Why is that possible? What the tuple stores in that case is the *address* of the other container and this address does not change.  \n",
    "See the commented ids in the snippet below, they do not change even though the first list is mutated.  \n",
    "\n",
    "```python\n",
    "tup = ([1, 2, 3], [4, 5, 6])\n",
    "print(id(tup[0]), id(tup[1]))  # 139791258633216 139791302490816\n",
    "tup[0].append(4)\n",
    "print(id(tup[0]), id(tup[1]))  # 139791258633216 139791302490816\n",
    "```\n",
    "\n",
    "Needless to say this is **not something you should be doing**, as other programmers will expect a tuple to not be mutated.  "
   ]
  },
  {
   "cell_type": "code",
   "execution_count": null,
   "metadata": {},
   "outputs": [],
   "source": []
  },
  {
   "cell_type": "code",
   "execution_count": null,
   "metadata": {},
   "outputs": [],
   "source": []
  },
  {
   "cell_type": "code",
   "execution_count": null,
   "metadata": {},
   "outputs": [],
   "source": []
  },
  {
   "cell_type": "markdown",
   "metadata": {},
   "source": [
    "## Detour: for loop\n",
    "\n",
    "Very frequently you want an operation to be performed multiple times - often over an entire container.  \n",
    "If your container is iterable (as all the containers shown above are), you can use the `for` loop.  \n",
    "This will iterate over every single element in the container.  \n",
    "\n",
    "```python\n",
    "for name in container:\n",
    "    do_something(name)\n",
    "```\n",
    "\n",
    "Dictionaries are a bit of a special case here, because they have two containers inside - their keys and their values.  \n",
    "You can thus iterate over only the keys, only the values, or a tuple of both."
   ]
  },
  {
   "cell_type": "code",
   "execution_count": null,
   "metadata": {},
   "outputs": [],
   "source": [
    "my_dict = {\"a\": 1, \"b\": 2, \"c\": 3}\n"
   ]
  },
  {
   "cell_type": "code",
   "execution_count": null,
   "metadata": {},
   "outputs": [],
   "source": [
    "for key in my_dict.keys():\n",
    "    print(key)\n"
   ]
  },
  {
   "cell_type": "code",
   "execution_count": null,
   "metadata": {},
   "outputs": [],
   "source": [
    "for value in my_dict.values():\n",
    "    print(value)\n"
   ]
  },
  {
   "cell_type": "code",
   "execution_count": null,
   "metadata": {},
   "outputs": [],
   "source": [
    "for pair in my_dict.items():\n",
    "    print(pair)\n"
   ]
  },
  {
   "cell_type": "markdown",
   "metadata": {},
   "source": [
    "There are two convenient shortcuts here.  \n",
    "First, as it's the more common operation to iterate over the keys, you can remove `.keys()` to implicitly iterate over them."
   ]
  },
  {
   "cell_type": "code",
   "execution_count": null,
   "metadata": {},
   "outputs": [],
   "source": [
    "for key in my_dict:\n",
    "    print(key)\n"
   ]
  },
  {
   "cell_type": "markdown",
   "metadata": {},
   "source": [
    "Second, you often want to access the entries of the pair seperately.  \n",
    "For this, you can **unpack** them (an any other tuple for that matter) via the `entry1, entry2` syntax.  \n",
    "Note that the amount of variables needs to match the number of elements in the tuple, otherwise this operation will throw a `ValueError`.  "
   ]
  },
  {
   "cell_type": "code",
   "execution_count": null,
   "metadata": {},
   "outputs": [],
   "source": [
    "for key, value in my_dict.items():\n",
    "    print(key, value)\n"
   ]
  },
  {
   "cell_type": "markdown",
   "metadata": {},
   "source": [
    "### Exercise: GC count\n",
    "\n",
    "Write a function that takes string of DNA (which consists of the bases `A`, `C`, `G` and `T`) and returns how high the percentage of the `G` and `C` bases together is.\n",
    "\n",
    "Function signature: `gc_count(dna: str) -> float`"
   ]
  },
  {
   "cell_type": "code",
   "execution_count": null,
   "metadata": {},
   "outputs": [],
   "source": [
    "def gc_count(dna: str) -> float:\n",
    "    ...\n",
    "\n",
    "\n",
    "assert gc_count(\"GGGCCC\") == 1.0\n",
    "assert gc_count(\"GGGTTTCCCAAA\") == 0.5\n",
    "assert gc_count(\"TTTAAA\") == 0.0\n"
   ]
  },
  {
   "cell_type": "code",
   "execution_count": null,
   "metadata": {},
   "outputs": [],
   "source": []
  },
  {
   "cell_type": "code",
   "execution_count": null,
   "metadata": {},
   "outputs": [],
   "source": []
  },
  {
   "cell_type": "code",
   "execution_count": null,
   "metadata": {},
   "outputs": [],
   "source": []
  },
  {
   "cell_type": "markdown",
   "metadata": {},
   "source": [
    "## Detour: range\n",
    "\n",
    "There are two very useful iterators that will generate a *sequence* of numbers on the fly: `range` and `enumerate`.  \n",
    "\n",
    "`range` takes one to three arguments: `(stop)`, `(start, stop)`, `(start, stop, step)`.  \n",
    "Just like with the slicing before, the range  is `[start, stop)` and the default arguments for `start` and `step` are 0 and 1 respectively.  \n",
    "So all the following are valid.\n",
    "\n",
    "```python\n",
    "range(5)        # 0, 1, 2, 3, 4, 5\n",
    "range(1, 5)     #    1, 2,\n",
    "range(1, 5, 2)  #    1,    3,\n",
    "```\n",
    "\n",
    "Naturally, you can iterate over a range.\n",
    "\n"
   ]
  },
  {
   "cell_type": "code",
   "execution_count": null,
   "metadata": {},
   "outputs": [],
   "source": [
    "for i in range(3):\n",
    "    print(i)\n"
   ]
  },
  {
   "cell_type": "markdown",
   "metadata": {},
   "source": [
    "\n",
    "The difference between a *sequence* and a *container* is that the sequence doesn't hold all of its values.  \n",
    "If you do need all those values, you can convert a sequence into a container like this\n",
    "\n",
    "```python\n",
    "list(range(0, 10))\n",
    "```"
   ]
  },
  {
   "cell_type": "markdown",
   "metadata": {},
   "source": [
    "### Exercise: sequence of numbers divisible by two\n",
    "\n",
    "Write a function that returns all numbers divisible by two in a range of `start` to `end`.  \n",
    "In the case where `start` is **not** divisble by two itself, start from the next largest number divisible by two.  \n",
    "\n",
    "Function signature: `range_of_divisible_by_two(start: int, stop: int) -> list[int]`\n",
    "\n",
    "**Bonus task**: Do the same thing but also vary the number you want the sequence to be divisible by."
   ]
  },
  {
   "cell_type": "code",
   "execution_count": null,
   "metadata": {},
   "outputs": [],
   "source": [
    "def range_of_divisible_by_two(start: int, stop: int) -> list[int]:\n",
    "    ...\n",
    "\n",
    "\n",
    "assert range_of_divisible_by_two(2, 7) == [2, 4, 6]\n",
    "assert range_of_divisible_by_two(2, 8) == [2, 4, 6]\n",
    "assert range_of_divisible_by_two(2, 9) == [2, 4, 6, 8]\n",
    "assert range_of_divisible_by_two(3, 7) == [4, 6]\n",
    "assert range_of_divisible_by_two(3, 8) == [4, 6]\n",
    "assert range_of_divisible_by_two(3, 9) == [4, 6, 8]\n"
   ]
  },
  {
   "cell_type": "code",
   "execution_count": null,
   "metadata": {},
   "outputs": [],
   "source": [
    "def range_of_divisible_by(start: int, stop: int, divisor: int) -> list[int]:\n",
    "    ...\n",
    "\n",
    "\n",
    "assert range_of_divisible_by(11, 21, 2) == [12, 14, 16, 18, 20]\n",
    "assert range_of_divisible_by(11, 21, 3) == [12, 15, 18]\n",
    "assert range_of_divisible_by(11, 21, 4) == [12, 16, 20]\n",
    "assert range_of_divisible_by(11, 21, 5) == [15, 20]\n",
    "assert range_of_divisible_by(11, 21, 6) == [12, 18]\n",
    "assert range_of_divisible_by(11, 21, 7) == [14]\n"
   ]
  },
  {
   "cell_type": "code",
   "execution_count": null,
   "metadata": {},
   "outputs": [],
   "source": []
  },
  {
   "cell_type": "code",
   "execution_count": null,
   "metadata": {},
   "outputs": [],
   "source": []
  },
  {
   "cell_type": "code",
   "execution_count": null,
   "metadata": {},
   "outputs": [],
   "source": []
  },
  {
   "cell_type": "markdown",
   "metadata": {},
   "source": [
    "## Detour: enumerate\n",
    "\n",
    "`enumerate` in contrast to `range` takes an iterable and returns the values of that iterable together with a running index.  \n",
    "Like with the dictionary example I'm unpacking the tuple here, but that's not necessary.  \n",
    "`enumerate` has an optional start keyword, so all the following are valid\n",
    "\n",
    "```python\n",
    "enumerate(iterable)           # index starts at zero\n",
    "enumerate(iterable, 1)        # implicit\n",
    "enumerate(iterable, start=1)  # explicit, preferred for readability\n",
    "```"
   ]
  },
  {
   "cell_type": "code",
   "execution_count": null,
   "metadata": {},
   "outputs": [],
   "source": [
    "for idx, value in enumerate([\"a\", \"b\", \"c\"]):\n",
    "    print(idx, value)\n"
   ]
  },
  {
   "cell_type": "markdown",
   "metadata": {},
   "source": [
    "### Exercise: any two equal\n",
    "\n",
    "Given a list of numbers and a number `k`, write a function that checks whether the sum of any two numbers from the list is equal to `k` or not.\n",
    "\n",
    "Function signature: `any_two_equal_k(numbers: list[int], k: int) -> bool:`"
   ]
  },
  {
   "cell_type": "code",
   "execution_count": null,
   "metadata": {},
   "outputs": [],
   "source": [
    "def any_two_equal_k(numbers: list[int], k: int) -> bool:\n",
    "    ...\n",
    "\n",
    "\n",
    "assert any_two_equal_k([2, 3, 2], 4)\n",
    "assert any_two_equal_k([1, 2, 3, 4, 5], 3)\n",
    "assert any_two_equal_k([1, 2, 3, 4, 5], 5)\n",
    "assert any_two_equal_k([1, 2, 3, 4, 5], 9)\n",
    "assert not any_two_equal_k([1, 2, 3, 4, 5], 10)\n",
    "assert not any_two_equal_k([1, 2, 3, 4, 5], 2)\n"
   ]
  },
  {
   "cell_type": "code",
   "execution_count": null,
   "metadata": {},
   "outputs": [],
   "source": []
  },
  {
   "cell_type": "code",
   "execution_count": null,
   "metadata": {},
   "outputs": [],
   "source": []
  },
  {
   "cell_type": "code",
   "execution_count": null,
   "metadata": {},
   "outputs": [],
   "source": []
  },
  {
   "cell_type": "markdown",
   "metadata": {},
   "source": [
    "## Detour: break and continue\n",
    "\n",
    "Frequently, you don't want to iterate through an entire collection or sequence, but just until you reach a certain value.  \n",
    "This can be achieved with the `break` statement, which will stop the iteration once it's reached.  \n",
    "Similarly, the `continue` statement can be used to jump to the next iteration *without executing the remainder of the loop body*."
   ]
  },
  {
   "cell_type": "code",
   "execution_count": null,
   "metadata": {},
   "outputs": [],
   "source": [
    "for i in \"abcdefg\":\n",
    "    if i == \"a\":\n",
    "        continue\n",
    "    if i == \"d\":\n",
    "        break\n",
    "    print(i)"
   ]
  },
  {
   "cell_type": "markdown",
   "metadata": {},
   "source": [
    "### Exercise: values until sum is reached\n",
    "\n",
    "Utilising the `continue` and `break` statements, write a function `(vals: list[int], goal: int) -> list[int]`  \n",
    "that returns the first n-elements of vals in which all odd numbers sum or exceed a given goal value.\n",
    "\n"
   ]
  },
  {
   "cell_type": "code",
   "execution_count": null,
   "metadata": {},
   "outputs": [],
   "source": [
    "def values_until_sum_is_reached_excluding_even(vals: list[int], goal: int) -> list[int]:\n",
    "    ...\n",
    "\n",
    "\n",
    "assert values_until_sum_is_reached_excluding_even([1, 2, 3, 4], 1) == [1]\n",
    "assert values_until_sum_is_reached_excluding_even([1, 2, 3, 4], 3) == [1, 2, 3]\n",
    "assert values_until_sum_is_reached_excluding_even([4, 3, 2, 1], 3) == [4, 3]\n",
    "assert values_until_sum_is_reached_excluding_even([4, 3, 2, 1], 2) == [4, 3]"
   ]
  },
  {
   "cell_type": "code",
   "execution_count": null,
   "metadata": {},
   "outputs": [],
   "source": []
  },
  {
   "cell_type": "code",
   "execution_count": null,
   "metadata": {},
   "outputs": [],
   "source": []
  },
  {
   "cell_type": "code",
   "execution_count": null,
   "metadata": {},
   "outputs": [],
   "source": []
  },
  {
   "cell_type": "markdown",
   "metadata": {},
   "source": [
    "# Containers: deeper dive\n",
    "\n",
    "Now that we have a general overview of containers, let's see what makes them special, as each container has certain advantages and certain disadvantages.  \n",
    "Without going into the technical details of *why* the containers behave differently, here is a quick overview of what each of the containers does best.   \n",
    "\n",
    "| Container | Useful for                                                     | Cheap operations         | Expensive operations |\n",
    "|-----------|----------------------------------------------------------------|--------------------------|----------------------|\n",
    "| tuple     | unchanging data of fixed length, e.g. function returns or keys |                          |                      |\n",
    "| list      | changing data of variable length                               | Access at index, iterate | Find a value by key  |\n",
    "| string    | text                                                           |                          |                      |\n",
    "| dict      | mapping of a key to a value                                    | Access at key            |                      |\n",
    "| set       | keeping track of unique items (unsorted)                       | Find a key               |                      |\n",
    "\n",
    "\n",
    "## Indexes vs keys\n",
    "\n",
    "Let's say you have a number of people and their age.  \n",
    "You can think of multiple ways to store this data.  \n",
    "E.g. you could store it in a list of tuples, or a dict.  \n",
    "\n",
    "```python\n",
    "age_by_person_list = [\n",
    "    (\"Oliver\", 5),\n",
    "    (\"Mara\", 15),\n",
    "    (\"Janina\", 10),\n",
    "    (\"Rainer\", 20),\n",
    "]\n",
    "\n",
    "age_by_person_dict = {\n",
    "    \"Oliver\": 5,\n",
    "    \"Mara\": 15,\n",
    "    \"Janina\": 10,\n",
    "    \"Rainer\": 20,\n",
    "}\n",
    "```\n",
    "\n",
    "If you are now interested in the age of a *particular* person, the solution of the list of tuples requires you to (in the worst case) iterate over *every single element* - a very costly operation.\n",
    "\n",
    "```python\n",
    "for person, age in age_by_person_list:\n",
    "    if person == \"Rainer\":\n",
    "        print(person, \"has age\", age)\n",
    "        break\n",
    "    else:\n",
    "        print(\"Not\", person)\n",
    "```\n",
    "\n",
    "If on the other hand you stored your data in a dictionary, you only need to visit *a single element* - a very cheap operation.\n",
    "\n",
    "```python\n",
    "print(\"Rainer's age is\", age_by_person_dict[\"Rainer\"])\n",
    "```\n",
    "\n",
    "However, if you are interested in for example the age of the *n-th* person you have the exact opposite picture.  \n",
    "This is a constant-time operation for a list\n",
    "\n",
    "```python\n",
    "print(\"The age of the n-th person is\", age_by_person_list[n])\n",
    "```\n",
    "\n",
    "but requires you to in the worst case visit *n elements* in a dictionary\n",
    "\n",
    "```python\n",
    "for i, age in enumerate(age_by_person_dict.values()):\n",
    "    if i == n:\n",
    "        print(\"The age of the n-th person is\", age)\n",
    "        break\n",
    "```\n"
   ]
  },
  {
   "cell_type": "code",
   "execution_count": null,
   "metadata": {},
   "outputs": [],
   "source": []
  },
  {
   "cell_type": "code",
   "execution_count": null,
   "metadata": {},
   "outputs": [],
   "source": []
  },
  {
   "cell_type": "code",
   "execution_count": null,
   "metadata": {},
   "outputs": [],
   "source": []
  },
  {
   "cell_type": "markdown",
   "metadata": {},
   "source": [
    "## Lists\n",
    "\n",
    "\n",
    "\n",
    "| Operation             | Method (mutating in-place) | Free function (creating a *new* list) |\n",
    "| ---                   | ---                        | ---                                   |\n",
    "| add a single value    | `my_list.append(value)`    | `my_list + [3]`                       |\n",
    "| add multiple values   | `my_list.extend(values)`   | `my_list + [3, 4]`                    |\n",
    "| remove value at idx   | `my_list.pop(idx)`         | `my_list[:idx] + my_list[idx + 1:]`   | \n",
    "| remove specific value | `my_list.remove(value)`    | `idx = l.index(value)`, then ↑        | \n",
    "| sort                  | `my_list.sort`             | `sorted(my_list)`                     |\n",
    "| reverse               | `my_list.reverse`          | `my_list[::-1]`                       |"
   ]
  },
  {
   "cell_type": "markdown",
   "metadata": {},
   "source": [
    "### Exercise: common list operations\n",
    "\n",
    "- Define a list containing five numbers of your choice\n",
    "- Sort the list from largest to smallest\n",
    "- Delete the smallest value from the list\n",
    "    - Bonus: can you do that *without* sorting the list? \n",
    "- Add 27 to your list\n",
    "- Revert the order of the list\n",
    "- Create a new list containing only the first two elements of the old list\n",
    "- Concatenante both lists into another new list"
   ]
  },
  {
   "cell_type": "code",
   "execution_count": null,
   "metadata": {},
   "outputs": [],
   "source": []
  },
  {
   "cell_type": "markdown",
   "metadata": {},
   "source": [
    "### Exercise: second smallest\n",
    "\n",
    "Write a function that takes a list of integers and returns the second smallest element.  \n",
    "You may assume that the list is always longer than two elements.  \n",
    "\n",
    "Function signature: `second_smallest(numbers: list[int]) -> int`\n",
    "\n"
   ]
  },
  {
   "cell_type": "code",
   "execution_count": null,
   "metadata": {},
   "outputs": [],
   "source": [
    "def second_smallest(numbers: list[int]) -> int:\n",
    "    ...\n",
    "\n",
    "\n",
    "assert second_smallest([1, 2, 3, 4]) == 2\n",
    "assert second_smallest([4, 3, 2, 1]) == 2\n",
    "assert second_smallest([3, 4, 1, 2]) == 2\n",
    "assert second_smallest([2, 2]) == 2\n"
   ]
  },
  {
   "cell_type": "code",
   "execution_count": null,
   "metadata": {},
   "outputs": [],
   "source": []
  },
  {
   "cell_type": "code",
   "execution_count": null,
   "metadata": {},
   "outputs": [],
   "source": []
  },
  {
   "cell_type": "code",
   "execution_count": null,
   "metadata": {},
   "outputs": [],
   "source": []
  },
  {
   "cell_type": "markdown",
   "metadata": {},
   "source": [
    "## Strings: interpolation\n",
    "\n",
    "There is a multitude of things you can do with strings - but since our focus will be numerical computing I will ignore the vast majority of it - the tutorial is already quite long as it is.  \n",
    "For now the only thing we are going to do with strings is to include additional information in them.  \n",
    "We will do that using string interpolation - a scary word, but a simple concept.  \n",
    "If you prepend your strings with an `f`, you can then introduce any valid expression into that string by enclosing the expression into braces.  \n",
    "\n",
    "```python\n",
    "f\"Some text {any_valid_expression} some more text\""
   ]
  },
  {
   "cell_type": "markdown",
   "metadata": {},
   "source": [
    "### Exercise: verbose adding\n",
    "\n",
    "Write a function `verbose_add(x: float, y: float) -> float` that takes two floating pointer numbers, prints the result and then also returns the result."
   ]
  },
  {
   "cell_type": "code",
   "execution_count": null,
   "metadata": {},
   "outputs": [],
   "source": [
    "def verbose_add(x: float, y: float) -> float:\n",
    "    ...\n",
    "\n",
    "\n",
    "verbose_add(1, 2)\n"
   ]
  },
  {
   "cell_type": "code",
   "execution_count": null,
   "metadata": {},
   "outputs": [],
   "source": []
  },
  {
   "cell_type": "code",
   "execution_count": null,
   "metadata": {},
   "outputs": [],
   "source": []
  },
  {
   "cell_type": "code",
   "execution_count": null,
   "metadata": {},
   "outputs": [],
   "source": []
  },
  {
   "cell_type": "markdown",
   "metadata": {},
   "source": [
    "## Strings: formatting\n",
    "\n",
    "While the normal interpolation works most of the time, you might want to format your input a bit more.  \n",
    "The syntax for this is `expression:format`.  \n",
    "The format specifier will very by data type, below are a few common examples.  \n"
   ]
  },
  {
   "cell_type": "code",
   "execution_count": null,
   "metadata": {},
   "outputs": [],
   "source": [
    "my_new_content = \"Hello, World\"\n",
    "\n",
    "# Pad with spaces\n",
    "print(f\"Some stuff before. {my_new_content:^20}. Some stuff afterwards.\")\n",
    "print(f\"Some stuff before. {my_new_content:<20}. Some stuff afterwards.\")\n",
    "print(f\"Some stuff before. {my_new_content:>20}. Some stuff afterwards.\")\n"
   ]
  },
  {
   "cell_type": "code",
   "execution_count": null,
   "metadata": {},
   "outputs": [],
   "source": [
    "# Truncate\n",
    "print(f\"Some stuff before. {my_new_content:.7}. Some stuff afterwards.\")\n"
   ]
  },
  {
   "cell_type": "code",
   "execution_count": null,
   "metadata": {},
   "outputs": [],
   "source": [
    "# Truncate and pad\n",
    "print(f\"Some stuff before. {my_new_content:^10.5}. Some stuff afterwards.\")\n"
   ]
  },
  {
   "cell_type": "code",
   "execution_count": null,
   "metadata": {},
   "outputs": [],
   "source": [
    "# Ints\n",
    "\n",
    "value = 1\n",
    "print(f\"Leading zeros: {value:04d}\")\n",
    "\n",
    "print(f\"Leading sign: {1:+d}\")\n",
    "print(f\"Leading sign: {-1:+d}\")\n",
    "\n",
    "print(f\"Leading sign or zero: {1: d}\")\n",
    "print(f\"Leading sign or zero: {-1: d}\")\n",
    "\n",
    "\n",
    "print(f\"Space padding: {value:4d}\")\n"
   ]
  },
  {
   "cell_type": "code",
   "execution_count": null,
   "metadata": {},
   "outputs": [],
   "source": [
    "# Floats\n",
    "\n",
    "value = 0.12345\n",
    "print(f\"Decimal notation:    {value:.2f}\")\n",
    "print(f\"Scientific notation: {value:.2e}\")\n",
    "print(f\"Percentage notation: {value:.2%}\")\n"
   ]
  },
  {
   "cell_type": "code",
   "execution_count": null,
   "metadata": {},
   "outputs": [],
   "source": [
    "my_int = 5\n",
    "my_float = 0.0512\n",
    "\n",
    "print(f\"The value of my_int is {my_int}\")\n",
    "print(\n",
    "    f\"The value of float is {my_float:.3f}, which you can also express as {my_float:.1%}\"\n",
    ")\n"
   ]
  },
  {
   "cell_type": "markdown",
   "metadata": {},
   "source": [
    "### Exercise: clock face revisited\n",
    "\n",
    "Write a function `clock_face_str(hour: int, minute: int) -> str:` that takes the inputs 0-23 for hour and 0-59 for minute respectively (you don't have to check that) and returns the time in 12 hour format, including the am / pm part."
   ]
  },
  {
   "cell_type": "code",
   "execution_count": null,
   "metadata": {},
   "outputs": [],
   "source": [
    "def clock_face_str(hour: int, minute: int) -> str:\n",
    "    ...\n",
    "\n",
    "\n",
    "assert clock_face_str(0, 0) == \"12:00 am\"\n",
    "assert clock_face_str(6, 0) == \"06:00 am\"\n",
    "assert clock_face_str(12, 00) == \"12:00 pm\"\n",
    "assert clock_face_str(18, 00) == \"06:00 pm\"\n"
   ]
  },
  {
   "cell_type": "code",
   "execution_count": null,
   "metadata": {},
   "outputs": [],
   "source": []
  },
  {
   "cell_type": "code",
   "execution_count": null,
   "metadata": {},
   "outputs": [],
   "source": []
  },
  {
   "cell_type": "code",
   "execution_count": null,
   "metadata": {},
   "outputs": [],
   "source": []
  },
  {
   "cell_type": "markdown",
   "metadata": {},
   "source": [
    "## Sets\n",
    "\n",
    "| Methods                             | Description                                                | Operators  |\n",
    "| ---                                 | ---                                                        | ---        |\n",
    "| `add(element)`                      | Add a *single* element to the set                          |            |\n",
    "| `update(container)`                 | Add *multiple* elements to the set                         | `s1 \\| s2` |\n",
    "| `pop()`                             | Remove and arbitrary element                               |            |\n",
    "| `remove(element)`                   | Remove a specific element                                  | `s1 - s2`  |\n",
    "| `difference(other)`                 | Get all elements that are in this set, but not the other   |            |\n",
    "| `symmetric_difference(other)`       | Get all elements that are unique to either of the two sets |            |\n",
    "| `intersection(other)`               | Get all elements thare appear in both sets                 | `s1 & s2`  |\n",
    "\n",
    "\n",
    "```python\n",
    "s1 = {1, 2, 3}\n",
    "s2 = {3, 4, 5}\n",
    "\n",
    "s1.difference(s2)            # {1, 2}\n",
    "s2.difference(s1)            # {4, 5}\n",
    "s1.symmetric_difference(s2)  # {1, 2, 4, 5}\n",
    "s1.intersection(s2)          # {3}\n",
    "```"
   ]
  },
  {
   "cell_type": "markdown",
   "metadata": {},
   "source": [
    "### Exercise: Delete duplicates\n",
    "\n",
    "Given a list of numbers, create a new list that contains each member of that list only one time, without re-ordering the list."
   ]
  },
  {
   "cell_type": "code",
   "execution_count": null,
   "metadata": {},
   "outputs": [],
   "source": [
    "def delete_duplicates(numbers: list[int]) -> list[int]:\n",
    "    ...\n",
    "\n",
    "\n",
    "assert delete_duplicates([1, 1, 2, 3]) == [1, 2, 3]\n",
    "assert delete_duplicates([1, 2, 2, 3]) == [1, 2, 3]\n",
    "assert delete_duplicates([1, 2, 3, 3]) == [1, 2, 3]\n"
   ]
  },
  {
   "cell_type": "code",
   "execution_count": null,
   "metadata": {},
   "outputs": [],
   "source": []
  },
  {
   "cell_type": "code",
   "execution_count": null,
   "metadata": {},
   "outputs": [],
   "source": []
  },
  {
   "cell_type": "code",
   "execution_count": null,
   "metadata": {},
   "outputs": [],
   "source": []
  },
  {
   "cell_type": "markdown",
   "metadata": {},
   "source": [
    "## Dictionaries\n",
    "\n",
    "| Methods                                             | Description                                                               | Operators |\n",
    "| ---                                                 | ---                                                                       | ---       |\n",
    "| `pop(key) -> value`                                 | Remove `key` from dictionary and return `value`                           |           |\n",
    "| `popitem() -> (key, value)`                         | Remove last added `key` and return both `key` and `value`                 |           |\n",
    "| `get(key, default=None) -> value \\| default`         | Return value of key *or* default value. Very useful.                     | `d[key]`¹ |\n",
    "| `setdefault(key, default=None) -> value \\| default`  | Adds `default` value for `key` if it's not in the dict. Very useful.     |           |\n",
    "| `update(collection)`                                | Add all elements from another collection                                  | `d1 \\| d2` |\n",
    "\n",
    "¹ While `get` returns `None` (or whatevery default value you set) when the `key` is not in the `dict`, `[key]` raises a `KeyError`. "
   ]
  },
  {
   "cell_type": "markdown",
   "metadata": {},
   "source": [
    "### Exercise: Delete n-plicates\n",
    "\n",
    "Given a list of numbers, create a new list that contains each member of that list at most `N` times without re-ordering."
   ]
  },
  {
   "cell_type": "code",
   "execution_count": null,
   "metadata": {},
   "outputs": [],
   "source": [
    "def delete_ntn(numbers: list[int], n: int) -> list[int]:\n",
    "    ...\n",
    "\n",
    "\n",
    "assert delete_ntn([1, 1, 2, 3], 1) == [1, 2, 3]\n",
    "assert delete_ntn([1, 2, 2, 3], 1) == [1, 2, 3]\n",
    "assert delete_ntn([1, 2, 3, 3], 1) == [1, 2, 3]\n",
    "\n",
    "assert delete_ntn([1, 2, 2, 2, 3], 2) == [1, 2, 2, 3]\n"
   ]
  },
  {
   "cell_type": "code",
   "execution_count": null,
   "metadata": {},
   "outputs": [],
   "source": []
  },
  {
   "cell_type": "code",
   "execution_count": null,
   "metadata": {},
   "outputs": [],
   "source": []
  },
  {
   "cell_type": "code",
   "execution_count": null,
   "metadata": {},
   "outputs": [],
   "source": []
  },
  {
   "cell_type": "markdown",
   "metadata": {},
   "source": [
    "# classes / dataclasses\n",
    "\n",
    "Structs are used to group distinct data while also supplying a name.  \n",
    "While extremely useful, they do require a certain amount of boilerplate code.  \n",
    "The modern solution is to use the `@dataclass` decorator (imported from the dataclasses standard library) to write them quickly.  \n",
    "\n",
    "```python\n",
    "@dataclass\n",
    "class Person:\n",
    "    name: str\n",
    "    age: int\n",
    "\n",
    "\n",
    "p = Person(\"Anton\", 25)  # Person(name='Anton', age=25)\n",
    "print(p.name, p.age)     # Anton 25\n",
    "```\n",
    "\n",
    "In object-oriented programming (OOP), it is common to also attach methods into a struct, which is then usually called a class.  \n",
    "This way you can keep both the data and the functionality nicely packed.  \n",
    "Methods take a `self` argument, which refers to the object to which their are attached.  \n",
    "This allows referencing the data like below\n",
    "\n",
    "```python\n",
    "@dataclass\n",
    "class Person:\n",
    "    name: str\n",
    "    age: int\n",
    "\n",
    "    def greet(self) -> None:\n",
    "        print(f\"Hello, {self.name}\")\n",
    "\n",
    "\n",
    "p = Person(\"Anton\", 25)  # Person(name='Anton', age=25)\n",
    "p.greet()                # Hello, Anton\n",
    "```\n",
    "\n",
    "You can build more complex classes by either relating them in a hierarchical fashion using **inheritance** or by including them inside each other using **composition**.  \n",
    "Both of these techniques are beyond the scope of this tutorial, but those are things you should get familiar with on your further journey.  "
   ]
  },
  {
   "cell_type": "markdown",
   "metadata": {},
   "source": [
    "### Exercise: reflect point\n",
    "\n",
    "Create a `Point` class that has cartesian x and y coordinates and a `reflect(self) -> Point` method  \n",
    "that will create a new Point object whose coordinates are reflected at the origin."
   ]
  },
  {
   "cell_type": "code",
   "execution_count": 11,
   "metadata": {},
   "outputs": [],
   "source": [
    "@dataclass\n",
    "class Point:\n",
    "    ...\n",
    "\n",
    "    def reflect(self) -> \"Point\":\n",
    "        ...\n",
    "\n",
    "\n",
    "assert Point(1, 2).reflect() == Point(-1, -2)\n"
   ]
  },
  {
   "cell_type": "code",
   "execution_count": null,
   "metadata": {},
   "outputs": [],
   "source": []
  },
  {
   "cell_type": "code",
   "execution_count": null,
   "metadata": {},
   "outputs": [],
   "source": []
  },
  {
   "cell_type": "code",
   "execution_count": null,
   "metadata": {},
   "outputs": [],
   "source": []
  },
  {
   "cell_type": "markdown",
   "metadata": {},
   "source": [
    "# First-class functions\n",
    "\n",
    "Functions being first-class citizens means that you can treat them like other variables.  \n",
    "For example, you can assign them to a name, use them as a parameter for other functions, or return them from another function.  \n",
    "This technique is very useful to create re-usable functions and it is often used in functional programming.  \n",
    "For example, here we define a simplified version of the built-in `map` function called `apply`, that applies a function to a list of integers.  \n",
    "Note that you can use *any* function of the type `int -> int` as the input.  \n",
    "\n",
    "```python\n",
    "def add_one(x: int) -> int:\n",
    "    return x + 1\n",
    "\n",
    "def square(x: int) -> int:\n",
    "    return x ** 2\n",
    "\n",
    "def apply(fn: Callable[[int], int], x: list[int]) -> list[int]:\n",
    "    return [fn(i) for i in x]\n",
    "\n",
    "# Observe that the function name is used as an input here\n",
    "print(apply(add_one, [1, 2, 3]))  # [2, 3, 4]\n",
    "print(apply(square, [1, 2, 3]))   # [1, 4, 9]\n",
    "```\n",
    "\n",
    "If you are using the built-in map function, you might notice that it doesn't return a container, but a `map` object.  \n",
    "This allows the implementation to be *lazy*, so it will just be evaluated once you actually iterate over it.  \n",
    "If you *do* want the entire container, you can e.g. just call \n",
    "\n",
    "```python\n",
    "list(map(add_one, [1, 2, 3]))  # [2, 3, 4]\n",
    "```\n",
    "\n",
    "Since the functions used as an input are often very small, Python has the `lambda` keyword to quickly write functions that don't need to have a name.\n",
    "\n",
    "```python\n",
    "print(apply(lambda x: x + 1, [1, 2, 3]))    # [2, 3, 4]\n",
    "print(apply(lambda x: x ** 2, [1, 2, 3]))   # [1, 4, 9]\n",
    "```\n"
   ]
  },
  {
   "cell_type": "code",
   "execution_count": null,
   "metadata": {},
   "outputs": [],
   "source": []
  },
  {
   "cell_type": "code",
   "execution_count": null,
   "metadata": {},
   "outputs": [],
   "source": []
  },
  {
   "cell_type": "code",
   "execution_count": null,
   "metadata": {},
   "outputs": [],
   "source": []
  },
  {
   "cell_type": "markdown",
   "metadata": {},
   "source": [
    "## Closures\n",
    "\n",
    "Just like you can take a function as an argument, you can also **return** a function.  \n",
    "This is particularly useful for writing *closures*, which are functions that \"carry\" around some extra information.  \n",
    "\n",
    "Below the `add_fn` has access to the `y` parameter passed to the `make_adder` function and then saves (closes around) this parameter inside itself.  \n",
    "\n",
    "\n",
    "```python\n",
    "def make_adder(y: int) -> Callable[[int], int]:\n",
    "    def add_fn(x: int) -> int:\n",
    "        return x + y\n",
    "\n",
    "    return add_fn\n",
    "\n",
    "# Create functions that always add a specific amount\n",
    "add_5 = make_adder(5)\n",
    "add_7 = make_adder(7)\n",
    "\n",
    "# Call functions\n",
    "print(add_5(2), add_7(2))  # (7, 9)\n",
    "```\n",
    "\n"
   ]
  },
  {
   "cell_type": "markdown",
   "metadata": {},
   "source": [
    "### Exercise: emulating classes with functions\n",
    "\n",
    "We will try to emulate a class using just a function.  \n",
    "Take the function below and extend it with a function `add(x: int) -> int` that updates the internal state of `x`.  \n",
    "\n",
    "```python\n",
    "def FunctionClass() -> dict[str, Callable[..., Any]]:\n",
    "    self = {\"x\": 1}\n",
    "\n",
    "    def get() -> int:\n",
    "        return self[\"x\"]\n",
    "\n",
    "    return {\n",
    "        \"get\": get,\n",
    "    }\n",
    "```"
   ]
  },
  {
   "cell_type": "code",
   "execution_count": null,
   "metadata": {},
   "outputs": [],
   "source": [
    "def FunctionClass() -> dict[str, Callable[..., Any]]:\n",
    "    ...\n",
    "\n",
    "\n",
    "cl = FunctionClass()\n",
    "\n",
    "assert cl[\"get\"]() == 1\n",
    "assert cl[\"add\"](1) == 2\n",
    "assert cl[\"get\"]() == 2\n"
   ]
  },
  {
   "cell_type": "code",
   "execution_count": null,
   "metadata": {},
   "outputs": [],
   "source": []
  },
  {
   "cell_type": "code",
   "execution_count": null,
   "metadata": {},
   "outputs": [],
   "source": []
  },
  {
   "cell_type": "code",
   "execution_count": null,
   "metadata": {},
   "outputs": [],
   "source": []
  },
  {
   "cell_type": "markdown",
   "metadata": {},
   "source": [
    "# Importing packages\n",
    "\n",
    "```python\n",
    "import numpy                # import the package under its entire name      use: numpy.array\n",
    "import numpy as np          # import the package under an alias you choose  use: np.array\n",
    "from numpy import array     # import directly into the global namespace     use: array\n",
    "```"
   ]
  },
  {
   "cell_type": "markdown",
   "metadata": {},
   "source": [
    "### Exercise: import this\n",
    "\n",
    "Python has a few easter-eggs hidden inside the standard library.  \n",
    "Import the `this` package.  \n",
    "Revisit this task every couple of months and see if you developed a deeper understanding of what you are seeing."
   ]
  },
  {
   "cell_type": "code",
   "execution_count": null,
   "metadata": {},
   "outputs": [],
   "source": []
  },
  {
   "cell_type": "code",
   "execution_count": null,
   "metadata": {},
   "outputs": [],
   "source": []
  },
  {
   "cell_type": "code",
   "execution_count": null,
   "metadata": {},
   "outputs": [],
   "source": []
  },
  {
   "cell_type": "markdown",
   "metadata": {},
   "source": [
    "# File input and output\n",
    "\n",
    "Creating and working with data in a script is fine, but more often you will need to work with data from other people or supply them with your results.  \n",
    "For that you need to be able to *read* and *write* files.  \n",
    "\n",
    "Since Windows and Linux / Mac operating systems use different file paths, Python comes with the `pathlib` library, which will save you from a lot of headache between using `/` or `\\` as folder delimiters.  \n",
    "\n",
    "In the top of the script we already imported the `Path` object using `from pathlib import Path`. Now we can use it.  \n",
    "\n",
    "Let us start by defining the path to a file called `pratchett-quotes.txt` that is already included in the `assets` folder."
   ]
  },
  {
   "cell_type": "code",
   "execution_count": null,
   "metadata": {},
   "outputs": [],
   "source": [
    "p = Path(\"assets\") / \"pratchett-quotes.txt\""
   ]
  },
  {
   "cell_type": "markdown",
   "metadata": {},
   "source": [
    "We can now open this file using the `open` function.  \n",
    "Note that I'm using a [context manager](https://docs.python.org/3/library/contextlib.html) using the `with` keyword to *automatically close the file* after I'm done with working on it.  \n",
    "\n",
    "Our file **mode** will be **read** (`r`), as we don't want to change the file.  \n",
    "The most common modes are\n",
    "\n",
    "- `r`: read only\n",
    "- `w`: write (writing starts at the beginning, **overwriting the file**)\n",
    "- `a`: append (writing starts at the end)\n",
    "\n",
    "We can then get the text using the `read` function on the `f` object (which you of course name in a different way if you want to).  "
   ]
  },
  {
   "cell_type": "code",
   "execution_count": null,
   "metadata": {},
   "outputs": [],
   "source": [
    "with open(p, \"r\") as f:\n",
    "    quotes_text = f.read()\n",
    "\n",
    "print(quotes_text)"
   ]
  },
  {
   "cell_type": "markdown",
   "metadata": {},
   "source": [
    "So far the `quotes_text` is just a long string, that contains line break characters `\\n` and a newline at the end.  \n",
    "\n",
    "To better work with the text, let's remove the last newline using `.strip` and then split the quotes into a list of string using `split(\"\\n\")`.  "
   ]
  },
  {
   "cell_type": "code",
   "execution_count": null,
   "metadata": {},
   "outputs": [],
   "source": [
    "quotes = quotes_text.strip().split(\"\\n\")\n",
    "print(quotes[0])"
   ]
  },
  {
   "cell_type": "markdown",
   "metadata": {},
   "source": [
    "We can now append a new quote"
   ]
  },
  {
   "cell_type": "code",
   "execution_count": null,
   "metadata": {},
   "outputs": [],
   "source": [
    "quotes.append(\n",
    "    \"The intelligence of that creature known as a crowd is the \"\n",
    "    \"square root of the number of people in it.\"\n",
    ")\n"
   ]
  },
  {
   "cell_type": "markdown",
   "metadata": {},
   "source": [
    "And then write the new file.  \n",
    "For this we will first create a new directory. \n",
    "Then we open the file path using the write mode `w`.  \n",
    "Finally, we add a line break character `\\n` to the end of each line and then write using the `write` method."
   ]
  },
  {
   "cell_type": "code",
   "execution_count": null,
   "metadata": {},
   "outputs": [],
   "source": [
    "temp = Path(\"temp\")\n",
    "\n",
    "# Create directory if it doesn't exist\n",
    "if not temp.exists():\n",
    "    temp.mkdir()\n",
    "\n",
    "with open(temp / \"pratchett-quotes-new.txt\", \"w\") as f:\n",
    "    for quote in quotes:\n",
    "        f.write(f\"{quote}\\n\")\n"
   ]
  },
  {
   "cell_type": "markdown",
   "metadata": {},
   "source": [
    "## Using file formats\n",
    "\n",
    "Saving data as raw text has the disadvantage, that we cannot make much assumptions over its content.  \n",
    "E.g., for textual data we cannot communicate that we want some text to be **bold**, or for numerical data we might want to communicate the `type` of the data.  \n",
    "\n",
    "To add meta-data, files are usually saved using file formats (like `.csv`, `.json`, `.py`), which imply rules on how to `parse` those files.  \n",
    "For common file formats, someone has usually already written a package that can `serialise` your data into the file format and `deserialise` the text into data structures.  \n",
    "\n",
    "We will use the `json` format as an example, as Python already contains a the `json` module.  \n",
    "\n",
    "This time we will write more complex data: a dictionary.  "
   ]
  },
  {
   "cell_type": "code",
   "execution_count": null,
   "metadata": {},
   "outputs": [],
   "source": [
    "import json\n",
    "\n",
    "parameters = {\"a\": 1, \"b\": 2, \"c\": 3}\n",
    "\n",
    "# Create file\n",
    "temp = Path(\"temp\")\n",
    "temp.mkdir(exist_ok=True)  # \n",
    "file = temp / \"parameters.json\"\n",
    "\n",
    "with open(file, \"w\") as f:\n",
    "    # You can set indent to None (default) if you don't need your file\n",
    "    # to be human-readable\n",
    "    json.dump(parameters, f, indent=2)\n",
    "\n",
    "# Read the file again\n",
    "with open(file, \"r\") as f:\n",
    "    print(json.load(f))\n"
   ]
  },
  {
   "cell_type": "code",
   "execution_count": null,
   "metadata": {},
   "outputs": [],
   "source": []
  },
  {
   "cell_type": "code",
   "execution_count": null,
   "metadata": {},
   "outputs": [],
   "source": []
  },
  {
   "cell_type": "code",
   "execution_count": null,
   "metadata": {},
   "outputs": [],
   "source": []
  },
  {
   "cell_type": "markdown",
   "metadata": {},
   "source": [
    "# Conventions\n",
    "\n",
    "Names in programming are used to convey meaning, thus there is a number of [naming conventions](https://en.wikipedia.org/wiki/Naming_convention_(programming)#Examples_of_multiple-word_identifier_formats). \n",
    "Since they are just conventions, no-one forces you to write code like this, but they do help at quickly spotting patterns.  \n",
    "We haven't talked about all of the concepts below, so don't worry if you don't understand some of the examples.  \n",
    "The point here is that if you ever do encouter some of these, you now know the names and can search for information more easily.  \n",
    "\n",
    "In Python, variable and function names are written with `snake_case`, while types and classes are written in `UpperCamelCase` (with the exception of built-in types like `bool, int, float, ...`).  \n",
    "\n",
    "Global constants are usually written with `CONSTANT_CASE`.\n",
    "\n",
    "Methods in classes have a bit more meaning assigned to them.  \n",
    "Method names starting with an underscore are meant to be *private*, so you shouldn't access them.  \n",
    "Method names starting with two underscoes are meant to be **really private**, so you definitely shouldn't access them.  \n",
    "Method names surrounded with double underscores (= dunder) define special behaviour documented in the [data model](https://docs.python.org/3/reference/datamodel.html)\n",
    "\n",
    "```python\n",
    "\n",
    "class A:\n",
    "    def _private(self): ...\n",
    "\n",
    "    def __really_private(self): ...\n",
    "\n",
    "    def __special_method__(self): ...\n",
    "```"
   ]
  },
  {
   "cell_type": "code",
   "execution_count": null,
   "metadata": {},
   "outputs": [],
   "source": []
  },
  {
   "cell_type": "code",
   "execution_count": null,
   "metadata": {},
   "outputs": [],
   "source": []
  },
  {
   "cell_type": "code",
   "execution_count": null,
   "metadata": {},
   "outputs": [],
   "source": []
  }
 ],
 "metadata": {
  "kernelspec": {
   "display_name": "Python 3.8.5 ('base')",
   "language": "python",
   "name": "python3"
  },
  "language_info": {
   "codemirror_mode": {
    "name": "ipython",
    "version": 3
   },
   "file_extension": ".py",
   "mimetype": "text/x-python",
   "name": "python",
   "nbconvert_exporter": "python",
   "pygments_lexer": "ipython3",
   "version": "3.8.5"
  },
  "orig_nbformat": 4,
  "vscode": {
   "interpreter": {
    "hash": "f9fbec021228251009a590a36fa0ca19537e76afb78a436ad34e49748ff12483"
   }
  }
 },
 "nbformat": 4,
 "nbformat_minor": 2
}
